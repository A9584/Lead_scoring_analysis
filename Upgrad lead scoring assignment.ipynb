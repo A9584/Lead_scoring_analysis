{
 "cells": [
  {
   "cell_type": "markdown",
   "id": "05cc17ab",
   "metadata": {},
   "source": [
    "# Problem Statement\n",
    "   ### An education company named X Education sells online courses to industry professionals. On any given day, many professionals who are interested in the courses land on their website and browse for courses. \n",
    "\n",
    " \n",
    "\n",
    "   ### The company markets its courses on several websites and search engines like Google. Once these people land on the website, they might browse the courses or fill up a form for the course or watch some videos. When these people fill up a form providing their email address or phone number, they are classified to be a lead. Moreover, the company also gets leads through past referrals. Once these leads are acquired, employees from the sales team start making calls, writing emails, etc. Through this process, some of the leads get converted while most do not. The typical lead conversion rate at X education is around 30%. \n",
    "\n",
    "### There are a lot of leads generated in the initial stage, but only a few of them come out as paying customers. In the middle stage, you need to nurture the potential leads well (i.e. educating the leads about the product, constantly communicating etc. ) in order to get a higher lead conversion.\n",
    "\n",
    "### X Education has appointed you to help them select the most promising leads, i.e. the leads that are most likely to convert into paying customers. The company requires you to build a model wherein you need to assign a lead score to each of the leads such that the customers with higher lead score have a higher conversion chance and the customers with lower lead score have a lower conversion chance. The CEO, in particular, has given a ballpark of the target lead conversion rate to be around 80%."
   ]
  },
  {
   "cell_type": "markdown",
   "id": "ff4f157b",
   "metadata": {},
   "source": [
    "# Goals of the Case Study\n",
    "### Build a logistic regression model to assign a lead score between 0 and 100 to each of the leads which can be used by the company to target potential leads. A higher score would mean that the lead is hot, i.e. is most likely to convert whereas a lower score would mean that the lead is cold and will mostly not get converted."
   ]
  },
  {
   "cell_type": "markdown",
   "id": "fba05cd5",
   "metadata": {},
   "source": [
    "# Step 1 :- Importing the data "
   ]
  },
  {
   "cell_type": "code",
   "execution_count": 1,
   "id": "e227dc06",
   "metadata": {},
   "outputs": [],
   "source": [
    "import warnings\n",
    "warnings.filterwarnings('ignore')\n",
    "\n",
    "import pandas as pd, numpy as np\n",
    "import matplotlib.pyplot as plt\n",
    "import seaborn as sns\n"
   ]
  },
  {
   "cell_type": "code",
   "execution_count": 2,
   "id": "05f5b7d2",
   "metadata": {},
   "outputs": [
    {
     "data": {
      "text/html": [
       "<div>\n",
       "<style scoped>\n",
       "    .dataframe tbody tr th:only-of-type {\n",
       "        vertical-align: middle;\n",
       "    }\n",
       "\n",
       "    .dataframe tbody tr th {\n",
       "        vertical-align: top;\n",
       "    }\n",
       "\n",
       "    .dataframe thead th {\n",
       "        text-align: right;\n",
       "    }\n",
       "</style>\n",
       "<table border=\"1\" class=\"dataframe\">\n",
       "  <thead>\n",
       "    <tr style=\"text-align: right;\">\n",
       "      <th></th>\n",
       "      <th>Prospect ID</th>\n",
       "      <th>Lead Number</th>\n",
       "      <th>Lead Origin</th>\n",
       "      <th>Lead Source</th>\n",
       "      <th>Do Not Email</th>\n",
       "      <th>Do Not Call</th>\n",
       "      <th>Converted</th>\n",
       "      <th>TotalVisits</th>\n",
       "      <th>Total Time Spent on Website</th>\n",
       "      <th>Page Views Per Visit</th>\n",
       "      <th>...</th>\n",
       "      <th>Get updates on DM Content</th>\n",
       "      <th>Lead Profile</th>\n",
       "      <th>City</th>\n",
       "      <th>Asymmetrique Activity Index</th>\n",
       "      <th>Asymmetrique Profile Index</th>\n",
       "      <th>Asymmetrique Activity Score</th>\n",
       "      <th>Asymmetrique Profile Score</th>\n",
       "      <th>I agree to pay the amount through cheque</th>\n",
       "      <th>A free copy of Mastering The Interview</th>\n",
       "      <th>Last Notable Activity</th>\n",
       "    </tr>\n",
       "  </thead>\n",
       "  <tbody>\n",
       "    <tr>\n",
       "      <th>0</th>\n",
       "      <td>7927b2df-8bba-4d29-b9a2-b6e0beafe620</td>\n",
       "      <td>660737</td>\n",
       "      <td>API</td>\n",
       "      <td>Olark Chat</td>\n",
       "      <td>No</td>\n",
       "      <td>No</td>\n",
       "      <td>0</td>\n",
       "      <td>0.0</td>\n",
       "      <td>0</td>\n",
       "      <td>0.0</td>\n",
       "      <td>...</td>\n",
       "      <td>No</td>\n",
       "      <td>Select</td>\n",
       "      <td>Select</td>\n",
       "      <td>02.Medium</td>\n",
       "      <td>02.Medium</td>\n",
       "      <td>15.0</td>\n",
       "      <td>15.0</td>\n",
       "      <td>No</td>\n",
       "      <td>No</td>\n",
       "      <td>Modified</td>\n",
       "    </tr>\n",
       "    <tr>\n",
       "      <th>1</th>\n",
       "      <td>2a272436-5132-4136-86fa-dcc88c88f482</td>\n",
       "      <td>660728</td>\n",
       "      <td>API</td>\n",
       "      <td>Organic Search</td>\n",
       "      <td>No</td>\n",
       "      <td>No</td>\n",
       "      <td>0</td>\n",
       "      <td>5.0</td>\n",
       "      <td>674</td>\n",
       "      <td>2.5</td>\n",
       "      <td>...</td>\n",
       "      <td>No</td>\n",
       "      <td>Select</td>\n",
       "      <td>Select</td>\n",
       "      <td>02.Medium</td>\n",
       "      <td>02.Medium</td>\n",
       "      <td>15.0</td>\n",
       "      <td>15.0</td>\n",
       "      <td>No</td>\n",
       "      <td>No</td>\n",
       "      <td>Email Opened</td>\n",
       "    </tr>\n",
       "    <tr>\n",
       "      <th>2</th>\n",
       "      <td>8cc8c611-a219-4f35-ad23-fdfd2656bd8a</td>\n",
       "      <td>660727</td>\n",
       "      <td>Landing Page Submission</td>\n",
       "      <td>Direct Traffic</td>\n",
       "      <td>No</td>\n",
       "      <td>No</td>\n",
       "      <td>1</td>\n",
       "      <td>2.0</td>\n",
       "      <td>1532</td>\n",
       "      <td>2.0</td>\n",
       "      <td>...</td>\n",
       "      <td>No</td>\n",
       "      <td>Potential Lead</td>\n",
       "      <td>Mumbai</td>\n",
       "      <td>02.Medium</td>\n",
       "      <td>01.High</td>\n",
       "      <td>14.0</td>\n",
       "      <td>20.0</td>\n",
       "      <td>No</td>\n",
       "      <td>Yes</td>\n",
       "      <td>Email Opened</td>\n",
       "    </tr>\n",
       "    <tr>\n",
       "      <th>3</th>\n",
       "      <td>0cc2df48-7cf4-4e39-9de9-19797f9b38cc</td>\n",
       "      <td>660719</td>\n",
       "      <td>Landing Page Submission</td>\n",
       "      <td>Direct Traffic</td>\n",
       "      <td>No</td>\n",
       "      <td>No</td>\n",
       "      <td>0</td>\n",
       "      <td>1.0</td>\n",
       "      <td>305</td>\n",
       "      <td>1.0</td>\n",
       "      <td>...</td>\n",
       "      <td>No</td>\n",
       "      <td>Select</td>\n",
       "      <td>Mumbai</td>\n",
       "      <td>02.Medium</td>\n",
       "      <td>01.High</td>\n",
       "      <td>13.0</td>\n",
       "      <td>17.0</td>\n",
       "      <td>No</td>\n",
       "      <td>No</td>\n",
       "      <td>Modified</td>\n",
       "    </tr>\n",
       "    <tr>\n",
       "      <th>4</th>\n",
       "      <td>3256f628-e534-4826-9d63-4a8b88782852</td>\n",
       "      <td>660681</td>\n",
       "      <td>Landing Page Submission</td>\n",
       "      <td>Google</td>\n",
       "      <td>No</td>\n",
       "      <td>No</td>\n",
       "      <td>1</td>\n",
       "      <td>2.0</td>\n",
       "      <td>1428</td>\n",
       "      <td>1.0</td>\n",
       "      <td>...</td>\n",
       "      <td>No</td>\n",
       "      <td>Select</td>\n",
       "      <td>Mumbai</td>\n",
       "      <td>02.Medium</td>\n",
       "      <td>01.High</td>\n",
       "      <td>15.0</td>\n",
       "      <td>18.0</td>\n",
       "      <td>No</td>\n",
       "      <td>No</td>\n",
       "      <td>Modified</td>\n",
       "    </tr>\n",
       "  </tbody>\n",
       "</table>\n",
       "<p>5 rows × 37 columns</p>\n",
       "</div>"
      ],
      "text/plain": [
       "                            Prospect ID  Lead Number              Lead Origin  \\\n",
       "0  7927b2df-8bba-4d29-b9a2-b6e0beafe620       660737                      API   \n",
       "1  2a272436-5132-4136-86fa-dcc88c88f482       660728                      API   \n",
       "2  8cc8c611-a219-4f35-ad23-fdfd2656bd8a       660727  Landing Page Submission   \n",
       "3  0cc2df48-7cf4-4e39-9de9-19797f9b38cc       660719  Landing Page Submission   \n",
       "4  3256f628-e534-4826-9d63-4a8b88782852       660681  Landing Page Submission   \n",
       "\n",
       "      Lead Source Do Not Email Do Not Call  Converted  TotalVisits  \\\n",
       "0      Olark Chat           No          No          0          0.0   \n",
       "1  Organic Search           No          No          0          5.0   \n",
       "2  Direct Traffic           No          No          1          2.0   \n",
       "3  Direct Traffic           No          No          0          1.0   \n",
       "4          Google           No          No          1          2.0   \n",
       "\n",
       "   Total Time Spent on Website  Page Views Per Visit  ...  \\\n",
       "0                            0                   0.0  ...   \n",
       "1                          674                   2.5  ...   \n",
       "2                         1532                   2.0  ...   \n",
       "3                          305                   1.0  ...   \n",
       "4                         1428                   1.0  ...   \n",
       "\n",
       "  Get updates on DM Content    Lead Profile    City  \\\n",
       "0                        No          Select  Select   \n",
       "1                        No          Select  Select   \n",
       "2                        No  Potential Lead  Mumbai   \n",
       "3                        No          Select  Mumbai   \n",
       "4                        No          Select  Mumbai   \n",
       "\n",
       "  Asymmetrique Activity Index Asymmetrique Profile Index  \\\n",
       "0                   02.Medium                  02.Medium   \n",
       "1                   02.Medium                  02.Medium   \n",
       "2                   02.Medium                    01.High   \n",
       "3                   02.Medium                    01.High   \n",
       "4                   02.Medium                    01.High   \n",
       "\n",
       "  Asymmetrique Activity Score Asymmetrique Profile Score  \\\n",
       "0                        15.0                       15.0   \n",
       "1                        15.0                       15.0   \n",
       "2                        14.0                       20.0   \n",
       "3                        13.0                       17.0   \n",
       "4                        15.0                       18.0   \n",
       "\n",
       "  I agree to pay the amount through cheque  \\\n",
       "0                                       No   \n",
       "1                                       No   \n",
       "2                                       No   \n",
       "3                                       No   \n",
       "4                                       No   \n",
       "\n",
       "  A free copy of Mastering The Interview Last Notable Activity  \n",
       "0                                     No              Modified  \n",
       "1                                     No          Email Opened  \n",
       "2                                    Yes          Email Opened  \n",
       "3                                     No              Modified  \n",
       "4                                     No              Modified  \n",
       "\n",
       "[5 rows x 37 columns]"
      ]
     },
     "execution_count": 2,
     "metadata": {},
     "output_type": "execute_result"
    }
   ],
   "source": [
    "leads = pd.read_csv('Leads.csv')\n",
    "leads.head()"
   ]
  },
  {
   "cell_type": "markdown",
   "id": "34c7520e",
   "metadata": {},
   "source": [
    "# Step-2 Inspecting the Dataframe"
   ]
  },
  {
   "cell_type": "code",
   "execution_count": 3,
   "id": "168df455",
   "metadata": {},
   "outputs": [
    {
     "data": {
      "text/plain": [
       "(9240, 37)"
      ]
     },
     "execution_count": 3,
     "metadata": {},
     "output_type": "execute_result"
    }
   ],
   "source": [
    "leads.shape"
   ]
  },
  {
   "cell_type": "markdown",
   "id": "e7a465bb",
   "metadata": {},
   "source": [
    "#### There are 9240 rows and 37 column in leads data"
   ]
  },
  {
   "cell_type": "code",
   "execution_count": 4,
   "id": "e724f2fe",
   "metadata": {},
   "outputs": [
    {
     "data": {
      "text/html": [
       "<div>\n",
       "<style scoped>\n",
       "    .dataframe tbody tr th:only-of-type {\n",
       "        vertical-align: middle;\n",
       "    }\n",
       "\n",
       "    .dataframe tbody tr th {\n",
       "        vertical-align: top;\n",
       "    }\n",
       "\n",
       "    .dataframe thead th {\n",
       "        text-align: right;\n",
       "    }\n",
       "</style>\n",
       "<table border=\"1\" class=\"dataframe\">\n",
       "  <thead>\n",
       "    <tr style=\"text-align: right;\">\n",
       "      <th></th>\n",
       "      <th>Lead Number</th>\n",
       "      <th>Converted</th>\n",
       "      <th>TotalVisits</th>\n",
       "      <th>Total Time Spent on Website</th>\n",
       "      <th>Page Views Per Visit</th>\n",
       "      <th>Asymmetrique Activity Score</th>\n",
       "      <th>Asymmetrique Profile Score</th>\n",
       "    </tr>\n",
       "  </thead>\n",
       "  <tbody>\n",
       "    <tr>\n",
       "      <th>count</th>\n",
       "      <td>9240.000000</td>\n",
       "      <td>9240.000000</td>\n",
       "      <td>9103.000000</td>\n",
       "      <td>9240.000000</td>\n",
       "      <td>9103.000000</td>\n",
       "      <td>5022.000000</td>\n",
       "      <td>5022.000000</td>\n",
       "    </tr>\n",
       "    <tr>\n",
       "      <th>mean</th>\n",
       "      <td>617188.435606</td>\n",
       "      <td>0.385390</td>\n",
       "      <td>3.445238</td>\n",
       "      <td>487.698268</td>\n",
       "      <td>2.362820</td>\n",
       "      <td>14.306252</td>\n",
       "      <td>16.344883</td>\n",
       "    </tr>\n",
       "    <tr>\n",
       "      <th>std</th>\n",
       "      <td>23405.995698</td>\n",
       "      <td>0.486714</td>\n",
       "      <td>4.854853</td>\n",
       "      <td>548.021466</td>\n",
       "      <td>2.161418</td>\n",
       "      <td>1.386694</td>\n",
       "      <td>1.811395</td>\n",
       "    </tr>\n",
       "    <tr>\n",
       "      <th>min</th>\n",
       "      <td>579533.000000</td>\n",
       "      <td>0.000000</td>\n",
       "      <td>0.000000</td>\n",
       "      <td>0.000000</td>\n",
       "      <td>0.000000</td>\n",
       "      <td>7.000000</td>\n",
       "      <td>11.000000</td>\n",
       "    </tr>\n",
       "    <tr>\n",
       "      <th>25%</th>\n",
       "      <td>596484.500000</td>\n",
       "      <td>0.000000</td>\n",
       "      <td>1.000000</td>\n",
       "      <td>12.000000</td>\n",
       "      <td>1.000000</td>\n",
       "      <td>14.000000</td>\n",
       "      <td>15.000000</td>\n",
       "    </tr>\n",
       "    <tr>\n",
       "      <th>50%</th>\n",
       "      <td>615479.000000</td>\n",
       "      <td>0.000000</td>\n",
       "      <td>3.000000</td>\n",
       "      <td>248.000000</td>\n",
       "      <td>2.000000</td>\n",
       "      <td>14.000000</td>\n",
       "      <td>16.000000</td>\n",
       "    </tr>\n",
       "    <tr>\n",
       "      <th>75%</th>\n",
       "      <td>637387.250000</td>\n",
       "      <td>1.000000</td>\n",
       "      <td>5.000000</td>\n",
       "      <td>936.000000</td>\n",
       "      <td>3.000000</td>\n",
       "      <td>15.000000</td>\n",
       "      <td>18.000000</td>\n",
       "    </tr>\n",
       "    <tr>\n",
       "      <th>max</th>\n",
       "      <td>660737.000000</td>\n",
       "      <td>1.000000</td>\n",
       "      <td>251.000000</td>\n",
       "      <td>2272.000000</td>\n",
       "      <td>55.000000</td>\n",
       "      <td>18.000000</td>\n",
       "      <td>20.000000</td>\n",
       "    </tr>\n",
       "  </tbody>\n",
       "</table>\n",
       "</div>"
      ],
      "text/plain": [
       "         Lead Number    Converted  TotalVisits  Total Time Spent on Website  \\\n",
       "count    9240.000000  9240.000000  9103.000000                  9240.000000   \n",
       "mean   617188.435606     0.385390     3.445238                   487.698268   \n",
       "std     23405.995698     0.486714     4.854853                   548.021466   \n",
       "min    579533.000000     0.000000     0.000000                     0.000000   \n",
       "25%    596484.500000     0.000000     1.000000                    12.000000   \n",
       "50%    615479.000000     0.000000     3.000000                   248.000000   \n",
       "75%    637387.250000     1.000000     5.000000                   936.000000   \n",
       "max    660737.000000     1.000000   251.000000                  2272.000000   \n",
       "\n",
       "       Page Views Per Visit  Asymmetrique Activity Score  \\\n",
       "count           9103.000000                  5022.000000   \n",
       "mean               2.362820                    14.306252   \n",
       "std                2.161418                     1.386694   \n",
       "min                0.000000                     7.000000   \n",
       "25%                1.000000                    14.000000   \n",
       "50%                2.000000                    14.000000   \n",
       "75%                3.000000                    15.000000   \n",
       "max               55.000000                    18.000000   \n",
       "\n",
       "       Asymmetrique Profile Score  \n",
       "count                 5022.000000  \n",
       "mean                    16.344883  \n",
       "std                      1.811395  \n",
       "min                     11.000000  \n",
       "25%                     15.000000  \n",
       "50%                     16.000000  \n",
       "75%                     18.000000  \n",
       "max                     20.000000  "
      ]
     },
     "execution_count": 4,
     "metadata": {},
     "output_type": "execute_result"
    }
   ],
   "source": [
    "leads.describe()"
   ]
  },
  {
   "cell_type": "code",
   "execution_count": 5,
   "id": "beebe3ca",
   "metadata": {},
   "outputs": [
    {
     "name": "stdout",
     "output_type": "stream",
     "text": [
      "<class 'pandas.core.frame.DataFrame'>\n",
      "RangeIndex: 9240 entries, 0 to 9239\n",
      "Data columns (total 37 columns):\n",
      " #   Column                                         Non-Null Count  Dtype  \n",
      "---  ------                                         --------------  -----  \n",
      " 0   Prospect ID                                    9240 non-null   object \n",
      " 1   Lead Number                                    9240 non-null   int64  \n",
      " 2   Lead Origin                                    9240 non-null   object \n",
      " 3   Lead Source                                    9204 non-null   object \n",
      " 4   Do Not Email                                   9240 non-null   object \n",
      " 5   Do Not Call                                    9240 non-null   object \n",
      " 6   Converted                                      9240 non-null   int64  \n",
      " 7   TotalVisits                                    9103 non-null   float64\n",
      " 8   Total Time Spent on Website                    9240 non-null   int64  \n",
      " 9   Page Views Per Visit                           9103 non-null   float64\n",
      " 10  Last Activity                                  9137 non-null   object \n",
      " 11  Country                                        6779 non-null   object \n",
      " 12  Specialization                                 7802 non-null   object \n",
      " 13  How did you hear about X Education             7033 non-null   object \n",
      " 14  What is your current occupation                6550 non-null   object \n",
      " 15  What matters most to you in choosing a course  6531 non-null   object \n",
      " 16  Search                                         9240 non-null   object \n",
      " 17  Magazine                                       9240 non-null   object \n",
      " 18  Newspaper Article                              9240 non-null   object \n",
      " 19  X Education Forums                             9240 non-null   object \n",
      " 20  Newspaper                                      9240 non-null   object \n",
      " 21  Digital Advertisement                          9240 non-null   object \n",
      " 22  Through Recommendations                        9240 non-null   object \n",
      " 23  Receive More Updates About Our Courses         9240 non-null   object \n",
      " 24  Tags                                           5887 non-null   object \n",
      " 25  Lead Quality                                   4473 non-null   object \n",
      " 26  Update me on Supply Chain Content              9240 non-null   object \n",
      " 27  Get updates on DM Content                      9240 non-null   object \n",
      " 28  Lead Profile                                   6531 non-null   object \n",
      " 29  City                                           7820 non-null   object \n",
      " 30  Asymmetrique Activity Index                    5022 non-null   object \n",
      " 31  Asymmetrique Profile Index                     5022 non-null   object \n",
      " 32  Asymmetrique Activity Score                    5022 non-null   float64\n",
      " 33  Asymmetrique Profile Score                     5022 non-null   float64\n",
      " 34  I agree to pay the amount through cheque       9240 non-null   object \n",
      " 35  A free copy of Mastering The Interview         9240 non-null   object \n",
      " 36  Last Notable Activity                          9240 non-null   object \n",
      "dtypes: float64(4), int64(3), object(30)\n",
      "memory usage: 2.6+ MB\n"
     ]
    }
   ],
   "source": [
    "leads.info()"
   ]
  },
  {
   "cell_type": "markdown",
   "id": "463cf41f",
   "metadata": {},
   "source": [
    "#### Looks like there are lots of null values present in this dataframe"
   ]
  },
  {
   "cell_type": "markdown",
   "id": "90c5b43f",
   "metadata": {},
   "source": [
    "# Step 3 - Data cleaning and preparation \n"
   ]
  },
  {
   "cell_type": "markdown",
   "id": "96a176da",
   "metadata": {},
   "source": [
    "#### Handling null values and removing those which are more than 40% "
   ]
  },
  {
   "cell_type": "code",
   "execution_count": 6,
   "id": "a97589f0",
   "metadata": {},
   "outputs": [
    {
     "data": {
      "text/plain": [
       "Prospect ID                                       0.000000\n",
       "Lead Number                                       0.000000\n",
       "Lead Origin                                       0.000000\n",
       "Lead Source                                       0.389610\n",
       "Do Not Email                                      0.000000\n",
       "Do Not Call                                       0.000000\n",
       "Converted                                         0.000000\n",
       "TotalVisits                                       1.482684\n",
       "Total Time Spent on Website                       0.000000\n",
       "Page Views Per Visit                              1.482684\n",
       "Last Activity                                     1.114719\n",
       "Country                                          26.634199\n",
       "Specialization                                   15.562771\n",
       "How did you hear about X Education               23.885281\n",
       "What is your current occupation                  29.112554\n",
       "What matters most to you in choosing a course    29.318182\n",
       "Search                                            0.000000\n",
       "Magazine                                          0.000000\n",
       "Newspaper Article                                 0.000000\n",
       "X Education Forums                                0.000000\n",
       "Newspaper                                         0.000000\n",
       "Digital Advertisement                             0.000000\n",
       "Through Recommendations                           0.000000\n",
       "Receive More Updates About Our Courses            0.000000\n",
       "Tags                                             36.287879\n",
       "Lead Quality                                     51.590909\n",
       "Update me on Supply Chain Content                 0.000000\n",
       "Get updates on DM Content                         0.000000\n",
       "Lead Profile                                     29.318182\n",
       "City                                             15.367965\n",
       "Asymmetrique Activity Index                      45.649351\n",
       "Asymmetrique Profile Index                       45.649351\n",
       "Asymmetrique Activity Score                      45.649351\n",
       "Asymmetrique Profile Score                       45.649351\n",
       "I agree to pay the amount through cheque          0.000000\n",
       "A free copy of Mastering The Interview            0.000000\n",
       "Last Notable Activity                             0.000000\n",
       "dtype: float64"
      ]
     },
     "execution_count": 6,
     "metadata": {},
     "output_type": "execute_result"
    }
   ],
   "source": [
    "leads.isnull().sum()/len(leads)*100"
   ]
  },
  {
   "cell_type": "code",
   "execution_count": 7,
   "id": "7677fcff",
   "metadata": {},
   "outputs": [
    {
     "data": {
      "text/html": [
       "<div>\n",
       "<style scoped>\n",
       "    .dataframe tbody tr th:only-of-type {\n",
       "        vertical-align: middle;\n",
       "    }\n",
       "\n",
       "    .dataframe tbody tr th {\n",
       "        vertical-align: top;\n",
       "    }\n",
       "\n",
       "    .dataframe thead th {\n",
       "        text-align: right;\n",
       "    }\n",
       "</style>\n",
       "<table border=\"1\" class=\"dataframe\">\n",
       "  <thead>\n",
       "    <tr style=\"text-align: right;\">\n",
       "      <th></th>\n",
       "      <th>Prospect ID</th>\n",
       "      <th>Lead Number</th>\n",
       "      <th>Lead Origin</th>\n",
       "      <th>Lead Source</th>\n",
       "      <th>Do Not Email</th>\n",
       "      <th>Do Not Call</th>\n",
       "      <th>Converted</th>\n",
       "      <th>TotalVisits</th>\n",
       "      <th>Total Time Spent on Website</th>\n",
       "      <th>Page Views Per Visit</th>\n",
       "      <th>Last Activity</th>\n",
       "      <th>Country</th>\n",
       "      <th>Specialization</th>\n",
       "      <th>How did you hear about X Education</th>\n",
       "      <th>What is your current occupation</th>\n",
       "      <th>What matters most to you in choosing a course</th>\n",
       "      <th>Search</th>\n",
       "      <th>Magazine</th>\n",
       "      <th>Newspaper Article</th>\n",
       "      <th>X Education Forums</th>\n",
       "      <th>Newspaper</th>\n",
       "      <th>Digital Advertisement</th>\n",
       "      <th>Through Recommendations</th>\n",
       "      <th>Receive More Updates About Our Courses</th>\n",
       "      <th>Tags</th>\n",
       "      <th>Lead Quality</th>\n",
       "      <th>Update me on Supply Chain Content</th>\n",
       "      <th>Get updates on DM Content</th>\n",
       "      <th>Lead Profile</th>\n",
       "      <th>City</th>\n",
       "      <th>Asymmetrique Activity Index</th>\n",
       "      <th>Asymmetrique Profile Index</th>\n",
       "      <th>Asymmetrique Activity Score</th>\n",
       "      <th>Asymmetrique Profile Score</th>\n",
       "      <th>I agree to pay the amount through cheque</th>\n",
       "      <th>A free copy of Mastering The Interview</th>\n",
       "      <th>Last Notable Activity</th>\n",
       "    </tr>\n",
       "  </thead>\n",
       "  <tbody>\n",
       "    <tr>\n",
       "      <th>0</th>\n",
       "      <td>7927b2df-8bba-4d29-b9a2-b6e0beafe620</td>\n",
       "      <td>660737</td>\n",
       "      <td>API</td>\n",
       "      <td>Olark Chat</td>\n",
       "      <td>No</td>\n",
       "      <td>No</td>\n",
       "      <td>0</td>\n",
       "      <td>0.0</td>\n",
       "      <td>0</td>\n",
       "      <td>0.0</td>\n",
       "      <td>Page Visited on Website</td>\n",
       "      <td>NaN</td>\n",
       "      <td>Select</td>\n",
       "      <td>Select</td>\n",
       "      <td>Unemployed</td>\n",
       "      <td>Better Career Prospects</td>\n",
       "      <td>No</td>\n",
       "      <td>No</td>\n",
       "      <td>No</td>\n",
       "      <td>No</td>\n",
       "      <td>No</td>\n",
       "      <td>No</td>\n",
       "      <td>No</td>\n",
       "      <td>No</td>\n",
       "      <td>Interested in other courses</td>\n",
       "      <td>Low in Relevance</td>\n",
       "      <td>No</td>\n",
       "      <td>No</td>\n",
       "      <td>Select</td>\n",
       "      <td>Select</td>\n",
       "      <td>02.Medium</td>\n",
       "      <td>02.Medium</td>\n",
       "      <td>15.0</td>\n",
       "      <td>15.0</td>\n",
       "      <td>No</td>\n",
       "      <td>No</td>\n",
       "      <td>Modified</td>\n",
       "    </tr>\n",
       "    <tr>\n",
       "      <th>1</th>\n",
       "      <td>2a272436-5132-4136-86fa-dcc88c88f482</td>\n",
       "      <td>660728</td>\n",
       "      <td>API</td>\n",
       "      <td>Organic Search</td>\n",
       "      <td>No</td>\n",
       "      <td>No</td>\n",
       "      <td>0</td>\n",
       "      <td>5.0</td>\n",
       "      <td>674</td>\n",
       "      <td>2.5</td>\n",
       "      <td>Email Opened</td>\n",
       "      <td>India</td>\n",
       "      <td>Select</td>\n",
       "      <td>Select</td>\n",
       "      <td>Unemployed</td>\n",
       "      <td>Better Career Prospects</td>\n",
       "      <td>No</td>\n",
       "      <td>No</td>\n",
       "      <td>No</td>\n",
       "      <td>No</td>\n",
       "      <td>No</td>\n",
       "      <td>No</td>\n",
       "      <td>No</td>\n",
       "      <td>No</td>\n",
       "      <td>Ringing</td>\n",
       "      <td>NaN</td>\n",
       "      <td>No</td>\n",
       "      <td>No</td>\n",
       "      <td>Select</td>\n",
       "      <td>Select</td>\n",
       "      <td>02.Medium</td>\n",
       "      <td>02.Medium</td>\n",
       "      <td>15.0</td>\n",
       "      <td>15.0</td>\n",
       "      <td>No</td>\n",
       "      <td>No</td>\n",
       "      <td>Email Opened</td>\n",
       "    </tr>\n",
       "    <tr>\n",
       "      <th>2</th>\n",
       "      <td>8cc8c611-a219-4f35-ad23-fdfd2656bd8a</td>\n",
       "      <td>660727</td>\n",
       "      <td>Landing Page Submission</td>\n",
       "      <td>Direct Traffic</td>\n",
       "      <td>No</td>\n",
       "      <td>No</td>\n",
       "      <td>1</td>\n",
       "      <td>2.0</td>\n",
       "      <td>1532</td>\n",
       "      <td>2.0</td>\n",
       "      <td>Email Opened</td>\n",
       "      <td>India</td>\n",
       "      <td>Business Administration</td>\n",
       "      <td>Select</td>\n",
       "      <td>Student</td>\n",
       "      <td>Better Career Prospects</td>\n",
       "      <td>No</td>\n",
       "      <td>No</td>\n",
       "      <td>No</td>\n",
       "      <td>No</td>\n",
       "      <td>No</td>\n",
       "      <td>No</td>\n",
       "      <td>No</td>\n",
       "      <td>No</td>\n",
       "      <td>Will revert after reading the email</td>\n",
       "      <td>Might be</td>\n",
       "      <td>No</td>\n",
       "      <td>No</td>\n",
       "      <td>Potential Lead</td>\n",
       "      <td>Mumbai</td>\n",
       "      <td>02.Medium</td>\n",
       "      <td>01.High</td>\n",
       "      <td>14.0</td>\n",
       "      <td>20.0</td>\n",
       "      <td>No</td>\n",
       "      <td>Yes</td>\n",
       "      <td>Email Opened</td>\n",
       "    </tr>\n",
       "    <tr>\n",
       "      <th>3</th>\n",
       "      <td>0cc2df48-7cf4-4e39-9de9-19797f9b38cc</td>\n",
       "      <td>660719</td>\n",
       "      <td>Landing Page Submission</td>\n",
       "      <td>Direct Traffic</td>\n",
       "      <td>No</td>\n",
       "      <td>No</td>\n",
       "      <td>0</td>\n",
       "      <td>1.0</td>\n",
       "      <td>305</td>\n",
       "      <td>1.0</td>\n",
       "      <td>Unreachable</td>\n",
       "      <td>India</td>\n",
       "      <td>Media and Advertising</td>\n",
       "      <td>Word Of Mouth</td>\n",
       "      <td>Unemployed</td>\n",
       "      <td>Better Career Prospects</td>\n",
       "      <td>No</td>\n",
       "      <td>No</td>\n",
       "      <td>No</td>\n",
       "      <td>No</td>\n",
       "      <td>No</td>\n",
       "      <td>No</td>\n",
       "      <td>No</td>\n",
       "      <td>No</td>\n",
       "      <td>Ringing</td>\n",
       "      <td>Not Sure</td>\n",
       "      <td>No</td>\n",
       "      <td>No</td>\n",
       "      <td>Select</td>\n",
       "      <td>Mumbai</td>\n",
       "      <td>02.Medium</td>\n",
       "      <td>01.High</td>\n",
       "      <td>13.0</td>\n",
       "      <td>17.0</td>\n",
       "      <td>No</td>\n",
       "      <td>No</td>\n",
       "      <td>Modified</td>\n",
       "    </tr>\n",
       "    <tr>\n",
       "      <th>4</th>\n",
       "      <td>3256f628-e534-4826-9d63-4a8b88782852</td>\n",
       "      <td>660681</td>\n",
       "      <td>Landing Page Submission</td>\n",
       "      <td>Google</td>\n",
       "      <td>No</td>\n",
       "      <td>No</td>\n",
       "      <td>1</td>\n",
       "      <td>2.0</td>\n",
       "      <td>1428</td>\n",
       "      <td>1.0</td>\n",
       "      <td>Converted to Lead</td>\n",
       "      <td>India</td>\n",
       "      <td>Select</td>\n",
       "      <td>Other</td>\n",
       "      <td>Unemployed</td>\n",
       "      <td>Better Career Prospects</td>\n",
       "      <td>No</td>\n",
       "      <td>No</td>\n",
       "      <td>No</td>\n",
       "      <td>No</td>\n",
       "      <td>No</td>\n",
       "      <td>No</td>\n",
       "      <td>No</td>\n",
       "      <td>No</td>\n",
       "      <td>Will revert after reading the email</td>\n",
       "      <td>Might be</td>\n",
       "      <td>No</td>\n",
       "      <td>No</td>\n",
       "      <td>Select</td>\n",
       "      <td>Mumbai</td>\n",
       "      <td>02.Medium</td>\n",
       "      <td>01.High</td>\n",
       "      <td>15.0</td>\n",
       "      <td>18.0</td>\n",
       "      <td>No</td>\n",
       "      <td>No</td>\n",
       "      <td>Modified</td>\n",
       "    </tr>\n",
       "  </tbody>\n",
       "</table>\n",
       "</div>"
      ],
      "text/plain": [
       "                            Prospect ID  Lead Number              Lead Origin  \\\n",
       "0  7927b2df-8bba-4d29-b9a2-b6e0beafe620       660737                      API   \n",
       "1  2a272436-5132-4136-86fa-dcc88c88f482       660728                      API   \n",
       "2  8cc8c611-a219-4f35-ad23-fdfd2656bd8a       660727  Landing Page Submission   \n",
       "3  0cc2df48-7cf4-4e39-9de9-19797f9b38cc       660719  Landing Page Submission   \n",
       "4  3256f628-e534-4826-9d63-4a8b88782852       660681  Landing Page Submission   \n",
       "\n",
       "      Lead Source Do Not Email Do Not Call  Converted  TotalVisits  \\\n",
       "0      Olark Chat           No          No          0          0.0   \n",
       "1  Organic Search           No          No          0          5.0   \n",
       "2  Direct Traffic           No          No          1          2.0   \n",
       "3  Direct Traffic           No          No          0          1.0   \n",
       "4          Google           No          No          1          2.0   \n",
       "\n",
       "   Total Time Spent on Website  Page Views Per Visit            Last Activity  \\\n",
       "0                            0                   0.0  Page Visited on Website   \n",
       "1                          674                   2.5             Email Opened   \n",
       "2                         1532                   2.0             Email Opened   \n",
       "3                          305                   1.0              Unreachable   \n",
       "4                         1428                   1.0        Converted to Lead   \n",
       "\n",
       "  Country           Specialization How did you hear about X Education  \\\n",
       "0     NaN                   Select                             Select   \n",
       "1   India                   Select                             Select   \n",
       "2   India  Business Administration                             Select   \n",
       "3   India    Media and Advertising                      Word Of Mouth   \n",
       "4   India                   Select                              Other   \n",
       "\n",
       "  What is your current occupation  \\\n",
       "0                      Unemployed   \n",
       "1                      Unemployed   \n",
       "2                         Student   \n",
       "3                      Unemployed   \n",
       "4                      Unemployed   \n",
       "\n",
       "  What matters most to you in choosing a course Search Magazine  \\\n",
       "0                       Better Career Prospects     No       No   \n",
       "1                       Better Career Prospects     No       No   \n",
       "2                       Better Career Prospects     No       No   \n",
       "3                       Better Career Prospects     No       No   \n",
       "4                       Better Career Prospects     No       No   \n",
       "\n",
       "  Newspaper Article X Education Forums Newspaper Digital Advertisement  \\\n",
       "0                No                 No        No                    No   \n",
       "1                No                 No        No                    No   \n",
       "2                No                 No        No                    No   \n",
       "3                No                 No        No                    No   \n",
       "4                No                 No        No                    No   \n",
       "\n",
       "  Through Recommendations Receive More Updates About Our Courses  \\\n",
       "0                      No                                     No   \n",
       "1                      No                                     No   \n",
       "2                      No                                     No   \n",
       "3                      No                                     No   \n",
       "4                      No                                     No   \n",
       "\n",
       "                                  Tags      Lead Quality  \\\n",
       "0          Interested in other courses  Low in Relevance   \n",
       "1                              Ringing               NaN   \n",
       "2  Will revert after reading the email          Might be   \n",
       "3                              Ringing          Not Sure   \n",
       "4  Will revert after reading the email          Might be   \n",
       "\n",
       "  Update me on Supply Chain Content Get updates on DM Content    Lead Profile  \\\n",
       "0                                No                        No          Select   \n",
       "1                                No                        No          Select   \n",
       "2                                No                        No  Potential Lead   \n",
       "3                                No                        No          Select   \n",
       "4                                No                        No          Select   \n",
       "\n",
       "     City Asymmetrique Activity Index Asymmetrique Profile Index  \\\n",
       "0  Select                   02.Medium                  02.Medium   \n",
       "1  Select                   02.Medium                  02.Medium   \n",
       "2  Mumbai                   02.Medium                    01.High   \n",
       "3  Mumbai                   02.Medium                    01.High   \n",
       "4  Mumbai                   02.Medium                    01.High   \n",
       "\n",
       "   Asymmetrique Activity Score  Asymmetrique Profile Score  \\\n",
       "0                         15.0                        15.0   \n",
       "1                         15.0                        15.0   \n",
       "2                         14.0                        20.0   \n",
       "3                         13.0                        17.0   \n",
       "4                         15.0                        18.0   \n",
       "\n",
       "  I agree to pay the amount through cheque  \\\n",
       "0                                       No   \n",
       "1                                       No   \n",
       "2                                       No   \n",
       "3                                       No   \n",
       "4                                       No   \n",
       "\n",
       "  A free copy of Mastering The Interview Last Notable Activity  \n",
       "0                                     No              Modified  \n",
       "1                                     No          Email Opened  \n",
       "2                                    Yes          Email Opened  \n",
       "3                                     No              Modified  \n",
       "4                                     No              Modified  "
      ]
     },
     "execution_count": 7,
     "metadata": {},
     "output_type": "execute_result"
    }
   ],
   "source": [
    "pd.set_option('display.max_columns', 500)\n",
    "leads.head()"
   ]
  },
  {
   "cell_type": "markdown",
   "id": "81dc4b4c",
   "metadata": {},
   "source": [
    "### There are some columns in which imputation is done by using \"select\"\n",
    "   #### So we are considering select as null values"
   ]
  },
  {
   "cell_type": "code",
   "execution_count": 8,
   "id": "8461f5d9",
   "metadata": {},
   "outputs": [],
   "source": [
    "leads = leads.replace('Select', np.nan)"
   ]
  },
  {
   "cell_type": "markdown",
   "id": "03191756",
   "metadata": {},
   "source": [
    "#### Looking at the null values again"
   ]
  },
  {
   "cell_type": "code",
   "execution_count": 9,
   "id": "9c9c116e",
   "metadata": {},
   "outputs": [
    {
     "data": {
      "text/plain": [
       "Prospect ID                                       0.000000\n",
       "Lead Number                                       0.000000\n",
       "Lead Origin                                       0.000000\n",
       "Lead Source                                       0.389610\n",
       "Do Not Email                                      0.000000\n",
       "Do Not Call                                       0.000000\n",
       "Converted                                         0.000000\n",
       "TotalVisits                                       1.482684\n",
       "Total Time Spent on Website                       0.000000\n",
       "Page Views Per Visit                              1.482684\n",
       "Last Activity                                     1.114719\n",
       "Country                                          26.634199\n",
       "Specialization                                   36.580087\n",
       "How did you hear about X Education               78.463203\n",
       "What is your current occupation                  29.112554\n",
       "What matters most to you in choosing a course    29.318182\n",
       "Search                                            0.000000\n",
       "Magazine                                          0.000000\n",
       "Newspaper Article                                 0.000000\n",
       "X Education Forums                                0.000000\n",
       "Newspaper                                         0.000000\n",
       "Digital Advertisement                             0.000000\n",
       "Through Recommendations                           0.000000\n",
       "Receive More Updates About Our Courses            0.000000\n",
       "Tags                                             36.287879\n",
       "Lead Quality                                     51.590909\n",
       "Update me on Supply Chain Content                 0.000000\n",
       "Get updates on DM Content                         0.000000\n",
       "Lead Profile                                     74.188312\n",
       "City                                             39.707792\n",
       "Asymmetrique Activity Index                      45.649351\n",
       "Asymmetrique Profile Index                       45.649351\n",
       "Asymmetrique Activity Score                      45.649351\n",
       "Asymmetrique Profile Score                       45.649351\n",
       "I agree to pay the amount through cheque          0.000000\n",
       "A free copy of Mastering The Interview            0.000000\n",
       "Last Notable Activity                             0.000000\n",
       "dtype: float64"
      ]
     },
     "execution_count": 9,
     "metadata": {},
     "output_type": "execute_result"
    }
   ],
   "source": [
    "leads.isnull().sum()/len(leads)*100"
   ]
  },
  {
   "cell_type": "code",
   "execution_count": 10,
   "id": "2ad59467",
   "metadata": {},
   "outputs": [],
   "source": [
    "leads.drop(['How did you hear about X Education', 'Lead Quality', 'Lead Profile' \n",
    "            , 'Asymmetrique Activity Index', 'Asymmetrique Profile Index', 'Asymmetrique Activity Score', \n",
    "            'Asymmetrique Profile Score' ], axis=1, inplace= True)"
   ]
  },
  {
   "cell_type": "code",
   "execution_count": 11,
   "id": "4df1ad07",
   "metadata": {},
   "outputs": [
    {
     "data": {
      "text/plain": [
       "Prospect ID                                       0.000000\n",
       "Lead Number                                       0.000000\n",
       "Lead Origin                                       0.000000\n",
       "Lead Source                                       0.389610\n",
       "Do Not Email                                      0.000000\n",
       "Do Not Call                                       0.000000\n",
       "Converted                                         0.000000\n",
       "TotalVisits                                       1.482684\n",
       "Total Time Spent on Website                       0.000000\n",
       "Page Views Per Visit                              1.482684\n",
       "Last Activity                                     1.114719\n",
       "Country                                          26.634199\n",
       "Specialization                                   36.580087\n",
       "What is your current occupation                  29.112554\n",
       "What matters most to you in choosing a course    29.318182\n",
       "Search                                            0.000000\n",
       "Magazine                                          0.000000\n",
       "Newspaper Article                                 0.000000\n",
       "X Education Forums                                0.000000\n",
       "Newspaper                                         0.000000\n",
       "Digital Advertisement                             0.000000\n",
       "Through Recommendations                           0.000000\n",
       "Receive More Updates About Our Courses            0.000000\n",
       "Tags                                             36.287879\n",
       "Update me on Supply Chain Content                 0.000000\n",
       "Get updates on DM Content                         0.000000\n",
       "City                                             39.707792\n",
       "I agree to pay the amount through cheque          0.000000\n",
       "A free copy of Mastering The Interview            0.000000\n",
       "Last Notable Activity                             0.000000\n",
       "dtype: float64"
      ]
     },
     "execution_count": 11,
     "metadata": {},
     "output_type": "execute_result"
    }
   ],
   "source": [
    "leads.isnull().sum()/len(leads)*100"
   ]
  },
  {
   "cell_type": "code",
   "execution_count": 12,
   "id": "56a9df11",
   "metadata": {},
   "outputs": [
    {
     "name": "stdout",
     "output_type": "stream",
     "text": [
      "<class 'pandas.core.frame.DataFrame'>\n",
      "RangeIndex: 9240 entries, 0 to 9239\n",
      "Data columns (total 30 columns):\n",
      " #   Column                                         Non-Null Count  Dtype  \n",
      "---  ------                                         --------------  -----  \n",
      " 0   Prospect ID                                    9240 non-null   object \n",
      " 1   Lead Number                                    9240 non-null   int64  \n",
      " 2   Lead Origin                                    9240 non-null   object \n",
      " 3   Lead Source                                    9204 non-null   object \n",
      " 4   Do Not Email                                   9240 non-null   object \n",
      " 5   Do Not Call                                    9240 non-null   object \n",
      " 6   Converted                                      9240 non-null   int64  \n",
      " 7   TotalVisits                                    9103 non-null   float64\n",
      " 8   Total Time Spent on Website                    9240 non-null   int64  \n",
      " 9   Page Views Per Visit                           9103 non-null   float64\n",
      " 10  Last Activity                                  9137 non-null   object \n",
      " 11  Country                                        6779 non-null   object \n",
      " 12  Specialization                                 5860 non-null   object \n",
      " 13  What is your current occupation                6550 non-null   object \n",
      " 14  What matters most to you in choosing a course  6531 non-null   object \n",
      " 15  Search                                         9240 non-null   object \n",
      " 16  Magazine                                       9240 non-null   object \n",
      " 17  Newspaper Article                              9240 non-null   object \n",
      " 18  X Education Forums                             9240 non-null   object \n",
      " 19  Newspaper                                      9240 non-null   object \n",
      " 20  Digital Advertisement                          9240 non-null   object \n",
      " 21  Through Recommendations                        9240 non-null   object \n",
      " 22  Receive More Updates About Our Courses         9240 non-null   object \n",
      " 23  Tags                                           5887 non-null   object \n",
      " 24  Update me on Supply Chain Content              9240 non-null   object \n",
      " 25  Get updates on DM Content                      9240 non-null   object \n",
      " 26  City                                           5571 non-null   object \n",
      " 27  I agree to pay the amount through cheque       9240 non-null   object \n",
      " 28  A free copy of Mastering The Interview         9240 non-null   object \n",
      " 29  Last Notable Activity                          9240 non-null   object \n",
      "dtypes: float64(2), int64(3), object(25)\n",
      "memory usage: 2.1+ MB\n"
     ]
    }
   ],
   "source": [
    "leads.info()"
   ]
  },
  {
   "cell_type": "markdown",
   "id": "94348a28",
   "metadata": {},
   "source": [
    "#### Now there are 29 columns present in which some columns have nUll values still present"
   ]
  },
  {
   "cell_type": "markdown",
   "id": "1c9e66de",
   "metadata": {},
   "source": [
    "### Imputing null values "
   ]
  },
  {
   "cell_type": "code",
   "execution_count": 13,
   "id": "cb2a2a58",
   "metadata": {},
   "outputs": [
    {
     "data": {
      "text/plain": [
       "India                   6492\n",
       "United States             69\n",
       "United Arab Emirates      53\n",
       "Singapore                 24\n",
       "Saudi Arabia              21\n",
       "United Kingdom            15\n",
       "Australia                 13\n",
       "Qatar                     10\n",
       "Hong Kong                  7\n",
       "Bahrain                    7\n",
       "Oman                       6\n",
       "France                     6\n",
       "unknown                    5\n",
       "South Africa               4\n",
       "Nigeria                    4\n",
       "Germany                    4\n",
       "Kuwait                     4\n",
       "Canada                     4\n",
       "Sweden                     3\n",
       "China                      2\n",
       "Asia/Pacific Region        2\n",
       "Uganda                     2\n",
       "Bangladesh                 2\n",
       "Italy                      2\n",
       "Belgium                    2\n",
       "Netherlands                2\n",
       "Ghana                      2\n",
       "Philippines                2\n",
       "Russia                     1\n",
       "Switzerland                1\n",
       "Vietnam                    1\n",
       "Denmark                    1\n",
       "Tanzania                   1\n",
       "Liberia                    1\n",
       "Malaysia                   1\n",
       "Kenya                      1\n",
       "Sri Lanka                  1\n",
       "Indonesia                  1\n",
       "Name: Country, dtype: int64"
      ]
     },
     "execution_count": 13,
     "metadata": {},
     "output_type": "execute_result"
    }
   ],
   "source": [
    "leads.Country.value_counts()"
   ]
  },
  {
   "cell_type": "markdown",
   "id": "6fb0cc26",
   "metadata": {},
   "source": [
    "#### India is imputed in this coulumns so many times so we are imputing null values of this columns as \"India\""
   ]
  },
  {
   "cell_type": "code",
   "execution_count": 14,
   "id": "b4cb53c0",
   "metadata": {},
   "outputs": [],
   "source": [
    "leads.Country.fillna('India', inplace=True)"
   ]
  },
  {
   "cell_type": "code",
   "execution_count": 15,
   "id": "27ece40c",
   "metadata": {},
   "outputs": [
    {
     "data": {
      "text/plain": [
       "India                   96.893939\n",
       "United States            0.746753\n",
       "United Arab Emirates     0.573593\n",
       "Singapore                0.259740\n",
       "Saudi Arabia             0.227273\n",
       "United Kingdom           0.162338\n",
       "Australia                0.140693\n",
       "Qatar                    0.108225\n",
       "Hong Kong                0.075758\n",
       "Bahrain                  0.075758\n",
       "Oman                     0.064935\n",
       "France                   0.064935\n",
       "unknown                  0.054113\n",
       "South Africa             0.043290\n",
       "Nigeria                  0.043290\n",
       "Germany                  0.043290\n",
       "Kuwait                   0.043290\n",
       "Canada                   0.043290\n",
       "Sweden                   0.032468\n",
       "China                    0.021645\n",
       "Asia/Pacific Region      0.021645\n",
       "Uganda                   0.021645\n",
       "Bangladesh               0.021645\n",
       "Italy                    0.021645\n",
       "Belgium                  0.021645\n",
       "Netherlands              0.021645\n",
       "Ghana                    0.021645\n",
       "Philippines              0.021645\n",
       "Russia                   0.010823\n",
       "Switzerland              0.010823\n",
       "Vietnam                  0.010823\n",
       "Denmark                  0.010823\n",
       "Tanzania                 0.010823\n",
       "Liberia                  0.010823\n",
       "Malaysia                 0.010823\n",
       "Kenya                    0.010823\n",
       "Sri Lanka                0.010823\n",
       "Indonesia                0.010823\n",
       "Name: Country, dtype: float64"
      ]
     },
     "execution_count": 15,
     "metadata": {},
     "output_type": "execute_result"
    }
   ],
   "source": [
    "leads.Country.value_counts()/len(leads)*100"
   ]
  },
  {
   "cell_type": "markdown",
   "id": "3f3b05fd",
   "metadata": {},
   "source": [
    "#### About 96% of the value is \"India\" in this columns so we are considering \n",
    "#### everyone resides in 'India' and dropping this column"
   ]
  },
  {
   "cell_type": "code",
   "execution_count": 16,
   "id": "8a2e509c",
   "metadata": {},
   "outputs": [],
   "source": [
    "leads.drop('Country',axis=1, inplace=True)"
   ]
  },
  {
   "cell_type": "code",
   "execution_count": 17,
   "id": "0328894e",
   "metadata": {},
   "outputs": [
    {
     "data": {
      "text/plain": [
       "Prospect ID                                       0.000000\n",
       "Lead Number                                       0.000000\n",
       "Lead Origin                                       0.000000\n",
       "Lead Source                                       0.389610\n",
       "Do Not Email                                      0.000000\n",
       "Do Not Call                                       0.000000\n",
       "Converted                                         0.000000\n",
       "TotalVisits                                       1.482684\n",
       "Total Time Spent on Website                       0.000000\n",
       "Page Views Per Visit                              1.482684\n",
       "Last Activity                                     1.114719\n",
       "Specialization                                   36.580087\n",
       "What is your current occupation                  29.112554\n",
       "What matters most to you in choosing a course    29.318182\n",
       "Search                                            0.000000\n",
       "Magazine                                          0.000000\n",
       "Newspaper Article                                 0.000000\n",
       "X Education Forums                                0.000000\n",
       "Newspaper                                         0.000000\n",
       "Digital Advertisement                             0.000000\n",
       "Through Recommendations                           0.000000\n",
       "Receive More Updates About Our Courses            0.000000\n",
       "Tags                                             36.287879\n",
       "Update me on Supply Chain Content                 0.000000\n",
       "Get updates on DM Content                         0.000000\n",
       "City                                             39.707792\n",
       "I agree to pay the amount through cheque          0.000000\n",
       "A free copy of Mastering The Interview            0.000000\n",
       "Last Notable Activity                             0.000000\n",
       "dtype: float64"
      ]
     },
     "execution_count": 17,
     "metadata": {},
     "output_type": "execute_result"
    }
   ],
   "source": [
    "leads.isnull().sum()/len(leads)*100"
   ]
  },
  {
   "cell_type": "markdown",
   "id": "cce7cb00",
   "metadata": {},
   "source": [
    "#### Checking city values"
   ]
  },
  {
   "cell_type": "code",
   "execution_count": 18,
   "id": "17c2ca01",
   "metadata": {},
   "outputs": [
    {
     "data": {
      "text/plain": [
       "NaN                            3669\n",
       "Mumbai                         3222\n",
       "Thane & Outskirts               752\n",
       "Other Cities                    686\n",
       "Other Cities of Maharashtra     457\n",
       "Other Metro Cities              380\n",
       "Tier II Cities                   74\n",
       "Name: City, dtype: int64"
      ]
     },
     "execution_count": 18,
     "metadata": {},
     "output_type": "execute_result"
    }
   ],
   "source": [
    "leads.City.value_counts(dropna=False)"
   ]
  },
  {
   "cell_type": "code",
   "execution_count": 19,
   "id": "4d66f3cd",
   "metadata": {},
   "outputs": [],
   "source": [
    "leads.City.fillna('Mumbai', inplace=True)"
   ]
  },
  {
   "cell_type": "code",
   "execution_count": 20,
   "id": "951b9876",
   "metadata": {},
   "outputs": [
    {
     "data": {
      "text/plain": [
       "Mumbai                         0.745779\n",
       "Thane & Outskirts              0.081385\n",
       "Other Cities                   0.074242\n",
       "Other Cities of Maharashtra    0.049459\n",
       "Other Metro Cities             0.041126\n",
       "Tier II Cities                 0.008009\n",
       "Name: City, dtype: float64"
      ]
     },
     "execution_count": 20,
     "metadata": {},
     "output_type": "execute_result"
    }
   ],
   "source": [
    "leads.City.value_counts(normalize=True)"
   ]
  },
  {
   "cell_type": "markdown",
   "id": "e102662b",
   "metadata": {},
   "source": [
    "#### 74% of data is mumbai in this column so we are keeping this one"
   ]
  },
  {
   "cell_type": "code",
   "execution_count": 21,
   "id": "578403a2",
   "metadata": {},
   "outputs": [
    {
     "data": {
      "text/plain": [
       "Prospect ID                                       0.000000\n",
       "Lead Number                                       0.000000\n",
       "Lead Origin                                       0.000000\n",
       "Lead Source                                       0.389610\n",
       "Do Not Email                                      0.000000\n",
       "Do Not Call                                       0.000000\n",
       "Converted                                         0.000000\n",
       "TotalVisits                                       1.482684\n",
       "Total Time Spent on Website                       0.000000\n",
       "Page Views Per Visit                              1.482684\n",
       "Last Activity                                     1.114719\n",
       "Specialization                                   36.580087\n",
       "What is your current occupation                  29.112554\n",
       "What matters most to you in choosing a course    29.318182\n",
       "Search                                            0.000000\n",
       "Magazine                                          0.000000\n",
       "Newspaper Article                                 0.000000\n",
       "X Education Forums                                0.000000\n",
       "Newspaper                                         0.000000\n",
       "Digital Advertisement                             0.000000\n",
       "Through Recommendations                           0.000000\n",
       "Receive More Updates About Our Courses            0.000000\n",
       "Tags                                             36.287879\n",
       "Update me on Supply Chain Content                 0.000000\n",
       "Get updates on DM Content                         0.000000\n",
       "City                                              0.000000\n",
       "I agree to pay the amount through cheque          0.000000\n",
       "A free copy of Mastering The Interview            0.000000\n",
       "Last Notable Activity                             0.000000\n",
       "dtype: float64"
      ]
     },
     "execution_count": 21,
     "metadata": {},
     "output_type": "execute_result"
    }
   ],
   "source": [
    "leads.isnull().sum()/len(leads)*100"
   ]
  },
  {
   "cell_type": "code",
   "execution_count": 22,
   "id": "a52e8620",
   "metadata": {},
   "outputs": [
    {
     "data": {
      "text/plain": [
       "Unemployed              5600\n",
       "NaN                     2690\n",
       "Working Professional     706\n",
       "Student                  210\n",
       "Other                     16\n",
       "Housewife                 10\n",
       "Businessman                8\n",
       "Name: What is your current occupation, dtype: int64"
      ]
     },
     "execution_count": 22,
     "metadata": {},
     "output_type": "execute_result"
    }
   ],
   "source": [
    "leads['What is your current occupation'].value_counts(dropna=False)"
   ]
  },
  {
   "cell_type": "code",
   "execution_count": 23,
   "id": "0df0c7a5",
   "metadata": {},
   "outputs": [],
   "source": [
    "leads['What is your current occupation'].fillna('Unemployed', inplace=True)"
   ]
  },
  {
   "cell_type": "code",
   "execution_count": 24,
   "id": "40deff77",
   "metadata": {},
   "outputs": [
    {
     "data": {
      "text/plain": [
       "Unemployed              0.897186\n",
       "Working Professional    0.076407\n",
       "Student                 0.022727\n",
       "Other                   0.001732\n",
       "Housewife               0.001082\n",
       "Businessman             0.000866\n",
       "Name: What is your current occupation, dtype: float64"
      ]
     },
     "execution_count": 24,
     "metadata": {},
     "output_type": "execute_result"
    }
   ],
   "source": [
    "leads['What is your current occupation'].value_counts(normalize=True)"
   ]
  },
  {
   "cell_type": "code",
   "execution_count": 25,
   "id": "f4fb7940",
   "metadata": {},
   "outputs": [
    {
     "data": {
      "text/plain": [
       "Prospect ID                                       0.000000\n",
       "Lead Number                                       0.000000\n",
       "Lead Origin                                       0.000000\n",
       "Lead Source                                       0.389610\n",
       "Do Not Email                                      0.000000\n",
       "Do Not Call                                       0.000000\n",
       "Converted                                         0.000000\n",
       "TotalVisits                                       1.482684\n",
       "Total Time Spent on Website                       0.000000\n",
       "Page Views Per Visit                              1.482684\n",
       "Last Activity                                     1.114719\n",
       "Specialization                                   36.580087\n",
       "What is your current occupation                   0.000000\n",
       "What matters most to you in choosing a course    29.318182\n",
       "Search                                            0.000000\n",
       "Magazine                                          0.000000\n",
       "Newspaper Article                                 0.000000\n",
       "X Education Forums                                0.000000\n",
       "Newspaper                                         0.000000\n",
       "Digital Advertisement                             0.000000\n",
       "Through Recommendations                           0.000000\n",
       "Receive More Updates About Our Courses            0.000000\n",
       "Tags                                             36.287879\n",
       "Update me on Supply Chain Content                 0.000000\n",
       "Get updates on DM Content                         0.000000\n",
       "City                                              0.000000\n",
       "I agree to pay the amount through cheque          0.000000\n",
       "A free copy of Mastering The Interview            0.000000\n",
       "Last Notable Activity                             0.000000\n",
       "dtype: float64"
      ]
     },
     "execution_count": 25,
     "metadata": {},
     "output_type": "execute_result"
    }
   ],
   "source": [
    "leads.isnull().sum()/len(leads)*100"
   ]
  },
  {
   "cell_type": "code",
   "execution_count": 26,
   "id": "9baa47cb",
   "metadata": {},
   "outputs": [
    {
     "data": {
      "text/plain": [
       "NaN                                  3380\n",
       "Finance Management                    976\n",
       "Human Resource Management             848\n",
       "Marketing Management                  838\n",
       "Operations Management                 503\n",
       "Business Administration               403\n",
       "IT Projects Management                366\n",
       "Supply Chain Management               349\n",
       "Banking, Investment And Insurance     338\n",
       "Travel and Tourism                    203\n",
       "Media and Advertising                 203\n",
       "International Business                178\n",
       "Healthcare Management                 159\n",
       "Hospitality Management                114\n",
       "E-COMMERCE                            112\n",
       "Retail Management                     100\n",
       "Rural and Agribusiness                 73\n",
       "E-Business                             57\n",
       "Services Excellence                    40\n",
       "Name: Specialization, dtype: int64"
      ]
     },
     "execution_count": 26,
     "metadata": {},
     "output_type": "execute_result"
    }
   ],
   "source": [
    "leads['Specialization'].value_counts(dropna=False)"
   ]
  },
  {
   "cell_type": "markdown",
   "id": "b26f2a4a",
   "metadata": {},
   "source": [
    "#### Grouping all the managment specialization into one"
   ]
  },
  {
   "cell_type": "code",
   "execution_count": 27,
   "id": "bfe98172",
   "metadata": {},
   "outputs": [],
   "source": [
    "leads['Specialization']=leads['Specialization'].replace(['Finance Management', 'Human Resource Management', 'Marketing Management'\n",
    "                                                       ,'Operations Management', 'IT Projects Management', 'Supply Chain Management'\n",
    "                                                       ,'Healthcare Management', 'Hospitality Management', 'Retail Management'],'Managment')\n",
    "leads['Specialization']=leads['Specialization'].replace(['International Business','E-COMMERCE','Rural and Agribusiness'\n",
    "                                                         ,'E-Business','Services Excellence'],'others')"
   ]
  },
  {
   "cell_type": "code",
   "execution_count": 28,
   "id": "ab5010ef",
   "metadata": {},
   "outputs": [
    {
     "data": {
      "text/plain": [
       "Managment                            4253\n",
       "NaN                                  3380\n",
       "others                                460\n",
       "Business Administration               403\n",
       "Banking, Investment And Insurance     338\n",
       "Media and Advertising                 203\n",
       "Travel and Tourism                    203\n",
       "Name: Specialization, dtype: int64"
      ]
     },
     "execution_count": 28,
     "metadata": {},
     "output_type": "execute_result"
    }
   ],
   "source": [
    "leads['Specialization'].value_counts(dropna=False)"
   ]
  },
  {
   "cell_type": "code",
   "execution_count": 29,
   "id": "d673f654",
   "metadata": {},
   "outputs": [],
   "source": [
    "leads['Specialization'].fillna('Not Specified', inplace=True)"
   ]
  },
  {
   "cell_type": "code",
   "execution_count": 30,
   "id": "84310b4d",
   "metadata": {},
   "outputs": [
    {
     "data": {
      "text/plain": [
       "Managment                            0.460281\n",
       "Not Specified                        0.365801\n",
       "others                               0.049784\n",
       "Business Administration              0.043615\n",
       "Banking, Investment And Insurance    0.036580\n",
       "Media and Advertising                0.021970\n",
       "Travel and Tourism                   0.021970\n",
       "Name: Specialization, dtype: float64"
      ]
     },
     "execution_count": 30,
     "metadata": {},
     "output_type": "execute_result"
    }
   ],
   "source": [
    "leads['Specialization'].value_counts(normalize=True)"
   ]
  },
  {
   "cell_type": "code",
   "execution_count": 31,
   "id": "f1c918a0",
   "metadata": {},
   "outputs": [
    {
     "data": {
      "text/plain": [
       "Prospect ID                                       0.000000\n",
       "Lead Number                                       0.000000\n",
       "Lead Origin                                       0.000000\n",
       "Lead Source                                       0.389610\n",
       "Do Not Email                                      0.000000\n",
       "Do Not Call                                       0.000000\n",
       "Converted                                         0.000000\n",
       "TotalVisits                                       1.482684\n",
       "Total Time Spent on Website                       0.000000\n",
       "Page Views Per Visit                              1.482684\n",
       "Last Activity                                     1.114719\n",
       "Specialization                                    0.000000\n",
       "What is your current occupation                   0.000000\n",
       "What matters most to you in choosing a course    29.318182\n",
       "Search                                            0.000000\n",
       "Magazine                                          0.000000\n",
       "Newspaper Article                                 0.000000\n",
       "X Education Forums                                0.000000\n",
       "Newspaper                                         0.000000\n",
       "Digital Advertisement                             0.000000\n",
       "Through Recommendations                           0.000000\n",
       "Receive More Updates About Our Courses            0.000000\n",
       "Tags                                             36.287879\n",
       "Update me on Supply Chain Content                 0.000000\n",
       "Get updates on DM Content                         0.000000\n",
       "City                                              0.000000\n",
       "I agree to pay the amount through cheque          0.000000\n",
       "A free copy of Mastering The Interview            0.000000\n",
       "Last Notable Activity                             0.000000\n",
       "dtype: float64"
      ]
     },
     "execution_count": 31,
     "metadata": {},
     "output_type": "execute_result"
    }
   ],
   "source": [
    "leads.isnull().sum()/len(leads)*100"
   ]
  },
  {
   "cell_type": "code",
   "execution_count": 32,
   "id": "f9b61516",
   "metadata": {},
   "outputs": [
    {
     "data": {
      "text/plain": [
       "Better Career Prospects      6528\n",
       "NaN                          2709\n",
       "Flexibility & Convenience       2\n",
       "Other                           1\n",
       "Name: What matters most to you in choosing a course, dtype: int64"
      ]
     },
     "execution_count": 32,
     "metadata": {},
     "output_type": "execute_result"
    }
   ],
   "source": [
    "leads['What matters most to you in choosing a course'].value_counts(dropna=False)"
   ]
  },
  {
   "cell_type": "code",
   "execution_count": 33,
   "id": "043a683c",
   "metadata": {},
   "outputs": [],
   "source": [
    "leads['What matters most to you in choosing a course'].fillna('Better Career Prospects', inplace=True)"
   ]
  },
  {
   "cell_type": "code",
   "execution_count": 34,
   "id": "423fe28d",
   "metadata": {},
   "outputs": [
    {
     "data": {
      "text/plain": [
       "Better Career Prospects      0.999675\n",
       "Flexibility & Convenience    0.000216\n",
       "Other                        0.000108\n",
       "Name: What matters most to you in choosing a course, dtype: float64"
      ]
     },
     "execution_count": 34,
     "metadata": {},
     "output_type": "execute_result"
    }
   ],
   "source": [
    "leads['What matters most to you in choosing a course'].value_counts(normalize=True)"
   ]
  },
  {
   "cell_type": "markdown",
   "id": "773a1011",
   "metadata": {},
   "source": [
    "#### Since 99 % of the value of the column \"What matters most to you in choosing a course\" is \"Better Career Prospects\"\n",
    "#### so we are dropping this column by assuming that everyone wants to enroll for Better career prospects"
   ]
  },
  {
   "cell_type": "code",
   "execution_count": 35,
   "id": "25846414",
   "metadata": {},
   "outputs": [],
   "source": [
    "leads.drop('What matters most to you in choosing a course',axis=1, inplace=True)"
   ]
  },
  {
   "cell_type": "code",
   "execution_count": 36,
   "id": "afd0b84b",
   "metadata": {},
   "outputs": [
    {
     "data": {
      "text/plain": [
       "Prospect ID                                  0.000000\n",
       "Lead Number                                  0.000000\n",
       "Lead Origin                                  0.000000\n",
       "Lead Source                                  0.389610\n",
       "Do Not Email                                 0.000000\n",
       "Do Not Call                                  0.000000\n",
       "Converted                                    0.000000\n",
       "TotalVisits                                  1.482684\n",
       "Total Time Spent on Website                  0.000000\n",
       "Page Views Per Visit                         1.482684\n",
       "Last Activity                                1.114719\n",
       "Specialization                               0.000000\n",
       "What is your current occupation              0.000000\n",
       "Search                                       0.000000\n",
       "Magazine                                     0.000000\n",
       "Newspaper Article                            0.000000\n",
       "X Education Forums                           0.000000\n",
       "Newspaper                                    0.000000\n",
       "Digital Advertisement                        0.000000\n",
       "Through Recommendations                      0.000000\n",
       "Receive More Updates About Our Courses       0.000000\n",
       "Tags                                        36.287879\n",
       "Update me on Supply Chain Content            0.000000\n",
       "Get updates on DM Content                    0.000000\n",
       "City                                         0.000000\n",
       "I agree to pay the amount through cheque     0.000000\n",
       "A free copy of Mastering The Interview       0.000000\n",
       "Last Notable Activity                        0.000000\n",
       "dtype: float64"
      ]
     },
     "execution_count": 36,
     "metadata": {},
     "output_type": "execute_result"
    }
   ],
   "source": [
    "leads.isnull().sum()/len(leads)*100"
   ]
  },
  {
   "cell_type": "code",
   "execution_count": 37,
   "id": "6f3e5ba7",
   "metadata": {},
   "outputs": [
    {
     "data": {
      "text/plain": [
       "NaN                                                  3353\n",
       "Will revert after reading the email                  2072\n",
       "Ringing                                              1203\n",
       "Interested in other courses                           513\n",
       "Already a student                                     465\n",
       "Closed by Horizzon                                    358\n",
       "switched off                                          240\n",
       "Busy                                                  186\n",
       "Lost to EINS                                          175\n",
       "Not doing further education                           145\n",
       "Interested  in full time MBA                          117\n",
       "Graduation in progress                                111\n",
       "invalid number                                         83\n",
       "Diploma holder (Not Eligible)                          63\n",
       "wrong number given                                     47\n",
       "opp hangup                                             33\n",
       "number not provided                                    27\n",
       "in touch with EINS                                     12\n",
       "Lost to Others                                          7\n",
       "Still Thinking                                          6\n",
       "Want to take admission but has financial problems       6\n",
       "In confusion whether part time or DLP                   5\n",
       "Interested in Next batch                                5\n",
       "Lateral student                                         3\n",
       "Shall take in the next coming month                     2\n",
       "University not recognized                               2\n",
       "Recognition issue (DEC approval)                        1\n",
       "Name: Tags, dtype: int64"
      ]
     },
     "execution_count": 37,
     "metadata": {},
     "output_type": "execute_result"
    }
   ],
   "source": [
    "leads['Tags'].value_counts(dropna=False)"
   ]
  },
  {
   "cell_type": "markdown",
   "id": "1d58a3b2",
   "metadata": {},
   "source": [
    "#### Grouping low frequency Tags into one"
   ]
  },
  {
   "cell_type": "code",
   "execution_count": 38,
   "id": "82d629d5",
   "metadata": {},
   "outputs": [],
   "source": [
    "leads['Tags']=leads['Tags'].replace(['Closed by Horizzon', 'switched off', 'Busy', 'Lost to EINS', 'Not doing further education'\n",
    "                                     , 'Interested  in full time MBA', 'Graduation in progress', 'invalid number', 'Diploma holder (Not Eligible)'\n",
    "                                     ,'wrong number given', 'opp hangup', 'number not provided', 'in touch with EINS', 'Lost to Others',\n",
    "                                     'Still Thinking', 'Want to take admission but has financial problems', 'In confusion whether part time or DLP',\n",
    "                                     'Interested in Next batch','Lateral student','Shall take in the next coming month','University not recognized'\n",
    "                                     ,'Recognition issue (DEC approval)'],'other reason')"
   ]
  },
  {
   "cell_type": "code",
   "execution_count": 39,
   "id": "0f0be18e",
   "metadata": {},
   "outputs": [
    {
     "data": {
      "text/plain": [
       "NaN                                    3353\n",
       "Will revert after reading the email    2072\n",
       "other reason                           1634\n",
       "Ringing                                1203\n",
       "Interested in other courses             513\n",
       "Already a student                       465\n",
       "Name: Tags, dtype: int64"
      ]
     },
     "execution_count": 39,
     "metadata": {},
     "output_type": "execute_result"
    }
   ],
   "source": [
    "leads['Tags'].value_counts(dropna=False)"
   ]
  },
  {
   "cell_type": "code",
   "execution_count": 40,
   "id": "e528d504",
   "metadata": {},
   "outputs": [],
   "source": [
    "leads['Tags'].fillna('Not Specified', inplace=True)"
   ]
  },
  {
   "cell_type": "code",
   "execution_count": 41,
   "id": "df999e36",
   "metadata": {},
   "outputs": [
    {
     "data": {
      "text/plain": [
       "Not Specified                          3353\n",
       "Will revert after reading the email    2072\n",
       "other reason                           1634\n",
       "Ringing                                1203\n",
       "Interested in other courses             513\n",
       "Already a student                       465\n",
       "Name: Tags, dtype: int64"
      ]
     },
     "execution_count": 41,
     "metadata": {},
     "output_type": "execute_result"
    }
   ],
   "source": [
    "leads['Tags'].value_counts(dropna=False)"
   ]
  },
  {
   "cell_type": "code",
   "execution_count": 42,
   "id": "3460b79a",
   "metadata": {},
   "outputs": [
    {
     "data": {
      "text/plain": [
       "Prospect ID                                 0.000000\n",
       "Lead Number                                 0.000000\n",
       "Lead Origin                                 0.000000\n",
       "Lead Source                                 0.389610\n",
       "Do Not Email                                0.000000\n",
       "Do Not Call                                 0.000000\n",
       "Converted                                   0.000000\n",
       "TotalVisits                                 1.482684\n",
       "Total Time Spent on Website                 0.000000\n",
       "Page Views Per Visit                        1.482684\n",
       "Last Activity                               1.114719\n",
       "Specialization                              0.000000\n",
       "What is your current occupation             0.000000\n",
       "Search                                      0.000000\n",
       "Magazine                                    0.000000\n",
       "Newspaper Article                           0.000000\n",
       "X Education Forums                          0.000000\n",
       "Newspaper                                   0.000000\n",
       "Digital Advertisement                       0.000000\n",
       "Through Recommendations                     0.000000\n",
       "Receive More Updates About Our Courses      0.000000\n",
       "Tags                                        0.000000\n",
       "Update me on Supply Chain Content           0.000000\n",
       "Get updates on DM Content                   0.000000\n",
       "City                                        0.000000\n",
       "I agree to pay the amount through cheque    0.000000\n",
       "A free copy of Mastering The Interview      0.000000\n",
       "Last Notable Activity                       0.000000\n",
       "dtype: float64"
      ]
     },
     "execution_count": 42,
     "metadata": {},
     "output_type": "execute_result"
    }
   ],
   "source": [
    "leads.isnull().sum()/len(leads)*100"
   ]
  },
  {
   "cell_type": "code",
   "execution_count": 43,
   "id": "fd1a6072",
   "metadata": {},
   "outputs": [
    {
     "data": {
      "text/plain": [
       "Google               2868\n",
       "Direct Traffic       2543\n",
       "Olark Chat           1755\n",
       "Organic Search       1154\n",
       "Reference             534\n",
       "Welingak Website      142\n",
       "Referral Sites        125\n",
       "Facebook               55\n",
       "NaN                    36\n",
       "bing                    6\n",
       "google                  5\n",
       "Click2call              4\n",
       "Press_Release           2\n",
       "Social Media            2\n",
       "Live Chat               2\n",
       "youtubechannel          1\n",
       "testone                 1\n",
       "Pay per Click Ads       1\n",
       "welearnblog_Home        1\n",
       "WeLearn                 1\n",
       "blog                    1\n",
       "NC_EDM                  1\n",
       "Name: Lead Source, dtype: int64"
      ]
     },
     "execution_count": 43,
     "metadata": {},
     "output_type": "execute_result"
    }
   ],
   "source": [
    "leads['Lead Source'].value_counts(dropna=False)"
   ]
  },
  {
   "cell_type": "code",
   "execution_count": 44,
   "id": "bac2d666",
   "metadata": {},
   "outputs": [],
   "source": [
    "leads['Lead Source'].fillna('Google', inplace=True)"
   ]
  },
  {
   "cell_type": "markdown",
   "id": "eadb05ae",
   "metadata": {},
   "source": [
    "#### Grouping low frequency \"Lead Source into one\""
   ]
  },
  {
   "cell_type": "code",
   "execution_count": 45,
   "id": "b7b73268",
   "metadata": {},
   "outputs": [],
   "source": [
    "leads['Lead Source']=leads['Lead Source'].replace(['Referral Sites','Facebook','bing','google','Click2call','Press_Release'\n",
    "                                                   ,'Social Media','Live Chat','youtubechannel','testone','Pay per Click Ads'\n",
    "                                                   ,'welearnblog_Home','WeLearn','blog','NC_EDM'],'other source')"
   ]
  },
  {
   "cell_type": "code",
   "execution_count": 46,
   "id": "87a86bbd",
   "metadata": {},
   "outputs": [
    {
     "data": {
      "text/plain": [
       "Google              2904\n",
       "Direct Traffic      2543\n",
       "Olark Chat          1755\n",
       "Organic Search      1154\n",
       "Reference            534\n",
       "other source         208\n",
       "Welingak Website     142\n",
       "Name: Lead Source, dtype: int64"
      ]
     },
     "execution_count": 46,
     "metadata": {},
     "output_type": "execute_result"
    }
   ],
   "source": [
    "leads['Lead Source'].value_counts()"
   ]
  },
  {
   "cell_type": "code",
   "execution_count": 47,
   "id": "7157c26b",
   "metadata": {},
   "outputs": [
    {
     "data": {
      "text/plain": [
       "Prospect ID                                 0.000000\n",
       "Lead Number                                 0.000000\n",
       "Lead Origin                                 0.000000\n",
       "Lead Source                                 0.000000\n",
       "Do Not Email                                0.000000\n",
       "Do Not Call                                 0.000000\n",
       "Converted                                   0.000000\n",
       "TotalVisits                                 1.482684\n",
       "Total Time Spent on Website                 0.000000\n",
       "Page Views Per Visit                        1.482684\n",
       "Last Activity                               1.114719\n",
       "Specialization                              0.000000\n",
       "What is your current occupation             0.000000\n",
       "Search                                      0.000000\n",
       "Magazine                                    0.000000\n",
       "Newspaper Article                           0.000000\n",
       "X Education Forums                          0.000000\n",
       "Newspaper                                   0.000000\n",
       "Digital Advertisement                       0.000000\n",
       "Through Recommendations                     0.000000\n",
       "Receive More Updates About Our Courses      0.000000\n",
       "Tags                                        0.000000\n",
       "Update me on Supply Chain Content           0.000000\n",
       "Get updates on DM Content                   0.000000\n",
       "City                                        0.000000\n",
       "I agree to pay the amount through cheque    0.000000\n",
       "A free copy of Mastering The Interview      0.000000\n",
       "Last Notable Activity                       0.000000\n",
       "dtype: float64"
      ]
     },
     "execution_count": 47,
     "metadata": {},
     "output_type": "execute_result"
    }
   ],
   "source": [
    "leads.isnull().sum()/len(leads)*100"
   ]
  },
  {
   "cell_type": "code",
   "execution_count": 48,
   "id": "aa9d4425",
   "metadata": {},
   "outputs": [
    {
     "data": {
      "text/plain": [
       "0.00    2189\n",
       "2.00    1795\n",
       "3.00    1196\n",
       "4.00     896\n",
       "1.00     651\n",
       "        ... \n",
       "2.56       1\n",
       "6.33       1\n",
       "1.64       1\n",
       "8.21       1\n",
       "2.08       1\n",
       "Name: Page Views Per Visit, Length: 115, dtype: int64"
      ]
     },
     "execution_count": 48,
     "metadata": {},
     "output_type": "execute_result"
    }
   ],
   "source": [
    "leads['Page Views Per Visit'].value_counts(dropna=False)"
   ]
  },
  {
   "cell_type": "code",
   "execution_count": 49,
   "id": "87e80de8",
   "metadata": {},
   "outputs": [
    {
     "data": {
      "text/plain": [
       "0.0      2189\n",
       "2.0      1680\n",
       "3.0      1306\n",
       "4.0      1120\n",
       "5.0       783\n",
       "6.0       466\n",
       "1.0       395\n",
       "7.0       309\n",
       "8.0       224\n",
       "9.0       164\n",
       "NaN       137\n",
       "10.0      114\n",
       "11.0       86\n",
       "13.0       48\n",
       "12.0       45\n",
       "14.0       36\n",
       "16.0       21\n",
       "15.0       18\n",
       "17.0       16\n",
       "18.0       15\n",
       "20.0       12\n",
       "19.0        9\n",
       "21.0        6\n",
       "23.0        6\n",
       "24.0        5\n",
       "25.0        5\n",
       "27.0        5\n",
       "22.0        3\n",
       "29.0        2\n",
       "28.0        2\n",
       "26.0        2\n",
       "141.0       1\n",
       "55.0        1\n",
       "30.0        1\n",
       "43.0        1\n",
       "74.0        1\n",
       "41.0        1\n",
       "54.0        1\n",
       "115.0       1\n",
       "251.0       1\n",
       "32.0        1\n",
       "42.0        1\n",
       "Name: TotalVisits, dtype: int64"
      ]
     },
     "execution_count": 49,
     "metadata": {},
     "output_type": "execute_result"
    }
   ],
   "source": [
    "leads['TotalVisits'].value_counts(dropna=False)"
   ]
  },
  {
   "cell_type": "markdown",
   "id": "11465b22",
   "metadata": {},
   "source": [
    "#### Dropping the column 'Page Views Per Visit' because this one is same as \"Total visit\" column"
   ]
  },
  {
   "cell_type": "code",
   "execution_count": 50,
   "id": "43c3278e",
   "metadata": {},
   "outputs": [],
   "source": [
    "leads.drop('Page Views Per Visit',axis=1, inplace=True)"
   ]
  },
  {
   "cell_type": "code",
   "execution_count": 51,
   "id": "5863713a",
   "metadata": {},
   "outputs": [
    {
     "data": {
      "text/plain": [
       "Prospect ID                                 0.000000\n",
       "Lead Number                                 0.000000\n",
       "Lead Origin                                 0.000000\n",
       "Lead Source                                 0.000000\n",
       "Do Not Email                                0.000000\n",
       "Do Not Call                                 0.000000\n",
       "Converted                                   0.000000\n",
       "TotalVisits                                 1.482684\n",
       "Total Time Spent on Website                 0.000000\n",
       "Last Activity                               1.114719\n",
       "Specialization                              0.000000\n",
       "What is your current occupation             0.000000\n",
       "Search                                      0.000000\n",
       "Magazine                                    0.000000\n",
       "Newspaper Article                           0.000000\n",
       "X Education Forums                          0.000000\n",
       "Newspaper                                   0.000000\n",
       "Digital Advertisement                       0.000000\n",
       "Through Recommendations                     0.000000\n",
       "Receive More Updates About Our Courses      0.000000\n",
       "Tags                                        0.000000\n",
       "Update me on Supply Chain Content           0.000000\n",
       "Get updates on DM Content                   0.000000\n",
       "City                                        0.000000\n",
       "I agree to pay the amount through cheque    0.000000\n",
       "A free copy of Mastering The Interview      0.000000\n",
       "Last Notable Activity                       0.000000\n",
       "dtype: float64"
      ]
     },
     "execution_count": 51,
     "metadata": {},
     "output_type": "execute_result"
    }
   ],
   "source": [
    "leads.isnull().sum()/len(leads)*100"
   ]
  },
  {
   "cell_type": "markdown",
   "id": "da7b57f2",
   "metadata": {},
   "source": [
    "#### Since very less null value is present so we are dropping all the \n",
    "#### null values at one because it will not affect our model "
   ]
  },
  {
   "cell_type": "code",
   "execution_count": 52,
   "id": "d31dbfee",
   "metadata": {},
   "outputs": [],
   "source": [
    "leads=leads.dropna()"
   ]
  },
  {
   "cell_type": "code",
   "execution_count": 53,
   "id": "d745ca7a",
   "metadata": {},
   "outputs": [
    {
     "data": {
      "text/plain": [
       "Prospect ID                                 0.0\n",
       "Lead Number                                 0.0\n",
       "Lead Origin                                 0.0\n",
       "Lead Source                                 0.0\n",
       "Do Not Email                                0.0\n",
       "Do Not Call                                 0.0\n",
       "Converted                                   0.0\n",
       "TotalVisits                                 0.0\n",
       "Total Time Spent on Website                 0.0\n",
       "Last Activity                               0.0\n",
       "Specialization                              0.0\n",
       "What is your current occupation             0.0\n",
       "Search                                      0.0\n",
       "Magazine                                    0.0\n",
       "Newspaper Article                           0.0\n",
       "X Education Forums                          0.0\n",
       "Newspaper                                   0.0\n",
       "Digital Advertisement                       0.0\n",
       "Through Recommendations                     0.0\n",
       "Receive More Updates About Our Courses      0.0\n",
       "Tags                                        0.0\n",
       "Update me on Supply Chain Content           0.0\n",
       "Get updates on DM Content                   0.0\n",
       "City                                        0.0\n",
       "I agree to pay the amount through cheque    0.0\n",
       "A free copy of Mastering The Interview      0.0\n",
       "Last Notable Activity                       0.0\n",
       "dtype: float64"
      ]
     },
     "execution_count": 53,
     "metadata": {},
     "output_type": "execute_result"
    }
   ],
   "source": [
    "leads.isnull().sum()/len(leads)*100"
   ]
  },
  {
   "cell_type": "markdown",
   "id": "8508a40f",
   "metadata": {},
   "source": [
    "# Grouping all the low frequency variables into one columns by columns\n",
    "# and dropping some more columns which is of no use"
   ]
  },
  {
   "cell_type": "code",
   "execution_count": 54,
   "id": "8c7bd55b",
   "metadata": {},
   "outputs": [
    {
     "data": {
      "text/plain": [
       "No     0.920466\n",
       "Yes    0.079534\n",
       "Name: Do Not Email, dtype: float64"
      ]
     },
     "execution_count": 54,
     "metadata": {},
     "output_type": "execute_result"
    }
   ],
   "source": [
    "leads['Do Not Email'].value_counts(normalize=True)"
   ]
  },
  {
   "cell_type": "code",
   "execution_count": 55,
   "id": "9b1dbf1f",
   "metadata": {},
   "outputs": [],
   "source": [
    "leads.drop(['Do Not Email'],axis=1, inplace=True)"
   ]
  },
  {
   "cell_type": "code",
   "execution_count": 56,
   "id": "81199c84",
   "metadata": {},
   "outputs": [
    {
     "data": {
      "text/plain": [
       "No     0.99978\n",
       "Yes    0.00022\n",
       "Name: Do Not Call, dtype: float64"
      ]
     },
     "execution_count": 56,
     "metadata": {},
     "output_type": "execute_result"
    }
   ],
   "source": [
    "leads['Do Not Call'].value_counts(normalize=True)"
   ]
  },
  {
   "cell_type": "code",
   "execution_count": 57,
   "id": "d9ac6ebf",
   "metadata": {},
   "outputs": [],
   "source": [
    "leads.drop(['Do Not Call'],axis=1, inplace=True)"
   ]
  },
  {
   "cell_type": "code",
   "execution_count": 58,
   "id": "32e014da",
   "metadata": {},
   "outputs": [
    {
     "data": {
      "text/plain": [
       "Email Opened                    3437\n",
       "SMS Sent                        2738\n",
       "Olark Chat Conversation          972\n",
       "Page Visited on Website          640\n",
       "Converted to Lead                428\n",
       "Email Bounced                    312\n",
       "Email Link Clicked               267\n",
       "Form Submitted on Website        116\n",
       "Unreachable                       90\n",
       "Unsubscribed                      61\n",
       "Had a Phone Conversation          25\n",
       "View in browser link Clicked       6\n",
       "Approached upfront                 5\n",
       "Email Received                     2\n",
       "Email Marked Spam                  2\n",
       "Visited Booth in Tradeshow         1\n",
       "Resubscribed to emails             1\n",
       "Name: Last Activity, dtype: int64"
      ]
     },
     "execution_count": 58,
     "metadata": {},
     "output_type": "execute_result"
    }
   ],
   "source": [
    "leads['Last Activity'].value_counts()"
   ]
  },
  {
   "cell_type": "code",
   "execution_count": 59,
   "id": "59177986",
   "metadata": {},
   "outputs": [],
   "source": [
    "leads['Last Activity']=leads['Last Activity'].replace(['Converted to Lead','Email Bounced','Email Link Clicked','Form Submitted on Website'\n",
    "                                                      ,'Unreachable','Unsubscribed','Had a Phone Conversation','View in browser link Clicked'\n",
    "                                                      ,'Approached upfront','Email Received','Email Marked Spam','Visited Booth in Tradeshow'\n",
    "                                                      ,'Resubscribed to emails'],'other')"
   ]
  },
  {
   "cell_type": "code",
   "execution_count": 60,
   "id": "6c062aed",
   "metadata": {},
   "outputs": [
    {
     "data": {
      "text/plain": [
       "Email Opened               3437\n",
       "SMS Sent                   2738\n",
       "other                      1316\n",
       "Olark Chat Conversation     972\n",
       "Page Visited on Website     640\n",
       "Name: Last Activity, dtype: int64"
      ]
     },
     "execution_count": 60,
     "metadata": {},
     "output_type": "execute_result"
    }
   ],
   "source": [
    "leads['Last Activity'].value_counts()"
   ]
  },
  {
   "cell_type": "code",
   "execution_count": 61,
   "id": "560f6c8f",
   "metadata": {},
   "outputs": [
    {
     "data": {
      "text/plain": [
       "No     0.998462\n",
       "Yes    0.001538\n",
       "Name: Search, dtype: float64"
      ]
     },
     "execution_count": 61,
     "metadata": {},
     "output_type": "execute_result"
    }
   ],
   "source": [
    "leads['Search'].value_counts(normalize=True)"
   ]
  },
  {
   "cell_type": "code",
   "execution_count": 62,
   "id": "6c1b7fc9",
   "metadata": {},
   "outputs": [],
   "source": [
    "leads.drop(['Search'],axis=1, inplace=True)"
   ]
  },
  {
   "cell_type": "code",
   "execution_count": 63,
   "id": "154439f0",
   "metadata": {},
   "outputs": [
    {
     "data": {
      "text/plain": [
       "Prospect ID                                 0.0\n",
       "Lead Number                                 0.0\n",
       "Lead Origin                                 0.0\n",
       "Lead Source                                 0.0\n",
       "Converted                                   0.0\n",
       "TotalVisits                                 0.0\n",
       "Total Time Spent on Website                 0.0\n",
       "Last Activity                               0.0\n",
       "Specialization                              0.0\n",
       "What is your current occupation             0.0\n",
       "Magazine                                    0.0\n",
       "Newspaper Article                           0.0\n",
       "X Education Forums                          0.0\n",
       "Newspaper                                   0.0\n",
       "Digital Advertisement                       0.0\n",
       "Through Recommendations                     0.0\n",
       "Receive More Updates About Our Courses      0.0\n",
       "Tags                                        0.0\n",
       "Update me on Supply Chain Content           0.0\n",
       "Get updates on DM Content                   0.0\n",
       "City                                        0.0\n",
       "I agree to pay the amount through cheque    0.0\n",
       "A free copy of Mastering The Interview      0.0\n",
       "Last Notable Activity                       0.0\n",
       "dtype: float64"
      ]
     },
     "execution_count": 63,
     "metadata": {},
     "output_type": "execute_result"
    }
   ],
   "source": [
    "leads.isnull().sum()/len(leads)*100"
   ]
  },
  {
   "cell_type": "code",
   "execution_count": 64,
   "id": "999d3c5b",
   "metadata": {},
   "outputs": [
    {
     "data": {
      "text/plain": [
       "No    9103\n",
       "Name: Magazine, dtype: int64"
      ]
     },
     "execution_count": 64,
     "metadata": {},
     "output_type": "execute_result"
    }
   ],
   "source": [
    "leads['Magazine'].value_counts()"
   ]
  },
  {
   "cell_type": "code",
   "execution_count": 65,
   "id": "87771abb",
   "metadata": {},
   "outputs": [],
   "source": [
    "leads.drop(['Magazine'],axis=1, inplace=True)"
   ]
  },
  {
   "cell_type": "code",
   "execution_count": 66,
   "id": "f137607d",
   "metadata": {},
   "outputs": [
    {
     "data": {
      "text/plain": [
       "No     9101\n",
       "Yes       2\n",
       "Name: Newspaper Article, dtype: int64"
      ]
     },
     "execution_count": 66,
     "metadata": {},
     "output_type": "execute_result"
    }
   ],
   "source": [
    "leads['Newspaper Article'].value_counts()"
   ]
  },
  {
   "cell_type": "code",
   "execution_count": 67,
   "id": "bffbbe44",
   "metadata": {},
   "outputs": [],
   "source": [
    "leads.drop(['Newspaper Article'],axis=1, inplace=True)"
   ]
  },
  {
   "cell_type": "code",
   "execution_count": 68,
   "id": "495d5030",
   "metadata": {},
   "outputs": [
    {
     "data": {
      "text/plain": [
       "No     9102\n",
       "Yes       1\n",
       "Name: X Education Forums, dtype: int64"
      ]
     },
     "execution_count": 68,
     "metadata": {},
     "output_type": "execute_result"
    }
   ],
   "source": [
    "leads['X Education Forums'].value_counts()"
   ]
  },
  {
   "cell_type": "code",
   "execution_count": 69,
   "id": "6ebb9cf7",
   "metadata": {},
   "outputs": [],
   "source": [
    "leads.drop(['X Education Forums'],axis=1, inplace=True)"
   ]
  },
  {
   "cell_type": "code",
   "execution_count": 70,
   "id": "517804bd",
   "metadata": {},
   "outputs": [
    {
     "data": {
      "text/plain": [
       "No     9102\n",
       "Yes       1\n",
       "Name: Newspaper, dtype: int64"
      ]
     },
     "execution_count": 70,
     "metadata": {},
     "output_type": "execute_result"
    }
   ],
   "source": [
    "leads['Newspaper'].value_counts()"
   ]
  },
  {
   "cell_type": "code",
   "execution_count": 71,
   "id": "8b0ca429",
   "metadata": {},
   "outputs": [],
   "source": [
    "leads.drop(['Newspaper'],axis=1, inplace=True)"
   ]
  },
  {
   "cell_type": "code",
   "execution_count": 72,
   "id": "24ca479b",
   "metadata": {},
   "outputs": [
    {
     "data": {
      "text/plain": [
       "No     9099\n",
       "Yes       4\n",
       "Name: Digital Advertisement, dtype: int64"
      ]
     },
     "execution_count": 72,
     "metadata": {},
     "output_type": "execute_result"
    }
   ],
   "source": [
    "leads['Digital Advertisement'].value_counts()"
   ]
  },
  {
   "cell_type": "code",
   "execution_count": 73,
   "id": "db2ed691",
   "metadata": {},
   "outputs": [],
   "source": [
    "leads.drop(['Digital Advertisement'],axis=1, inplace=True)"
   ]
  },
  {
   "cell_type": "code",
   "execution_count": 74,
   "id": "3eb9e971",
   "metadata": {},
   "outputs": [
    {
     "data": {
      "text/plain": [
       "No     9096\n",
       "Yes       7\n",
       "Name: Through Recommendations, dtype: int64"
      ]
     },
     "execution_count": 74,
     "metadata": {},
     "output_type": "execute_result"
    }
   ],
   "source": [
    "leads['Through Recommendations'].value_counts()"
   ]
  },
  {
   "cell_type": "code",
   "execution_count": 75,
   "id": "942300a1",
   "metadata": {},
   "outputs": [],
   "source": [
    "leads.drop(['Through Recommendations'],axis=1, inplace=True)"
   ]
  },
  {
   "cell_type": "code",
   "execution_count": 76,
   "id": "cdd0708c",
   "metadata": {},
   "outputs": [
    {
     "data": {
      "text/plain": [
       "No    9103\n",
       "Name: Receive More Updates About Our Courses, dtype: int64"
      ]
     },
     "execution_count": 76,
     "metadata": {},
     "output_type": "execute_result"
    }
   ],
   "source": [
    "leads['Receive More Updates About Our Courses'].value_counts()"
   ]
  },
  {
   "cell_type": "code",
   "execution_count": 77,
   "id": "479fbbc4",
   "metadata": {},
   "outputs": [],
   "source": [
    "leads.drop(['Receive More Updates About Our Courses'],axis=1, inplace=True)"
   ]
  },
  {
   "cell_type": "code",
   "execution_count": 78,
   "id": "44cd9991",
   "metadata": {},
   "outputs": [
    {
     "data": {
      "text/plain": [
       "No    9103\n",
       "Name: Update me on Supply Chain Content, dtype: int64"
      ]
     },
     "execution_count": 78,
     "metadata": {},
     "output_type": "execute_result"
    }
   ],
   "source": [
    "leads['Update me on Supply Chain Content'].value_counts()"
   ]
  },
  {
   "cell_type": "code",
   "execution_count": 79,
   "id": "c40c7f00",
   "metadata": {},
   "outputs": [],
   "source": [
    "leads.drop(['Update me on Supply Chain Content'],axis=1, inplace=True)"
   ]
  },
  {
   "cell_type": "code",
   "execution_count": 80,
   "id": "b0e8d41b",
   "metadata": {},
   "outputs": [
    {
     "data": {
      "text/plain": [
       "No    9103\n",
       "Name: Get updates on DM Content, dtype: int64"
      ]
     },
     "execution_count": 80,
     "metadata": {},
     "output_type": "execute_result"
    }
   ],
   "source": [
    "leads['Get updates on DM Content'].value_counts()"
   ]
  },
  {
   "cell_type": "code",
   "execution_count": 81,
   "id": "4e70192a",
   "metadata": {},
   "outputs": [],
   "source": [
    "leads.drop(['Get updates on DM Content'],axis=1, inplace=True)"
   ]
  },
  {
   "cell_type": "code",
   "execution_count": 82,
   "id": "375c9080",
   "metadata": {},
   "outputs": [
    {
     "data": {
      "text/plain": [
       "No    9103\n",
       "Name: I agree to pay the amount through cheque, dtype: int64"
      ]
     },
     "execution_count": 82,
     "metadata": {},
     "output_type": "execute_result"
    }
   ],
   "source": [
    "leads['I agree to pay the amount through cheque'].value_counts()"
   ]
  },
  {
   "cell_type": "code",
   "execution_count": 83,
   "id": "cf3c7fe2",
   "metadata": {},
   "outputs": [],
   "source": [
    "leads.drop(['I agree to pay the amount through cheque'],axis=1, inplace=True)"
   ]
  },
  {
   "cell_type": "code",
   "execution_count": 84,
   "id": "94c9197a",
   "metadata": {},
   "outputs": [
    {
     "data": {
      "text/plain": [
       "No     6215\n",
       "Yes    2888\n",
       "Name: A free copy of Mastering The Interview, dtype: int64"
      ]
     },
     "execution_count": 84,
     "metadata": {},
     "output_type": "execute_result"
    }
   ],
   "source": [
    "leads['A free copy of Mastering The Interview'].value_counts()"
   ]
  },
  {
   "cell_type": "code",
   "execution_count": 85,
   "id": "ac615704",
   "metadata": {},
   "outputs": [
    {
     "data": {
      "text/plain": [
       "Modified                        3270\n",
       "Email Opened                    2827\n",
       "SMS Sent                        2172\n",
       "Page Visited on Website          318\n",
       "Olark Chat Conversation          183\n",
       "Email Link Clicked               173\n",
       "Email Bounced                     60\n",
       "Unsubscribed                      47\n",
       "Unreachable                       32\n",
       "Had a Phone Conversation          14\n",
       "Email Marked Spam                  2\n",
       "Approached upfront                 1\n",
       "Resubscribed to emails             1\n",
       "View in browser link Clicked       1\n",
       "Form Submitted on Website          1\n",
       "Email Received                     1\n",
       "Name: Last Notable Activity, dtype: int64"
      ]
     },
     "execution_count": 85,
     "metadata": {},
     "output_type": "execute_result"
    }
   ],
   "source": [
    "leads['Last Notable Activity'].value_counts()"
   ]
  },
  {
   "cell_type": "code",
   "execution_count": 86,
   "id": "b1257e88",
   "metadata": {},
   "outputs": [],
   "source": [
    "leads['Last Notable Activity']=leads['Last Notable Activity'].replace(['Olark Chat Conversation','Email Link Clicked'\n",
    "                                                                      ,'Email Bounced','Unsubscribed','Unreachable'\n",
    "                                                                      ,'Had a Phone Conversation','Email Marked Spam'\n",
    "                                                                      ,'Approached upfront','Resubscribed to emails'\n",
    "                                                                      ,'View in browser link Clicked','Form Submitted on Website'\n",
    "                                                                      ,'Email Received'],'others')"
   ]
  },
  {
   "cell_type": "code",
   "execution_count": 87,
   "id": "cea4e2a1",
   "metadata": {},
   "outputs": [
    {
     "data": {
      "text/plain": [
       "Modified                   3270\n",
       "Email Opened               2827\n",
       "SMS Sent                   2172\n",
       "others                      516\n",
       "Page Visited on Website     318\n",
       "Name: Last Notable Activity, dtype: int64"
      ]
     },
     "execution_count": 87,
     "metadata": {},
     "output_type": "execute_result"
    }
   ],
   "source": [
    "leads['Last Notable Activity'].value_counts()"
   ]
  },
  {
   "cell_type": "code",
   "execution_count": 88,
   "id": "09c0a69c",
   "metadata": {},
   "outputs": [
    {
     "data": {
      "text/plain": [
       "Prospect ID                               0.0\n",
       "Lead Number                               0.0\n",
       "Lead Origin                               0.0\n",
       "Lead Source                               0.0\n",
       "Converted                                 0.0\n",
       "TotalVisits                               0.0\n",
       "Total Time Spent on Website               0.0\n",
       "Last Activity                             0.0\n",
       "Specialization                            0.0\n",
       "What is your current occupation           0.0\n",
       "Tags                                      0.0\n",
       "City                                      0.0\n",
       "A free copy of Mastering The Interview    0.0\n",
       "Last Notable Activity                     0.0\n",
       "dtype: float64"
      ]
     },
     "execution_count": 88,
     "metadata": {},
     "output_type": "execute_result"
    }
   ],
   "source": [
    "leads.isnull().sum()/len(leads)*100"
   ]
  },
  {
   "cell_type": "code",
   "execution_count": 89,
   "id": "1f47a08e",
   "metadata": {},
   "outputs": [
    {
     "name": "stdout",
     "output_type": "stream",
     "text": [
      "Landing Page Submission    53.674613\n",
      "API                        39.305723\n",
      "Lead Add Form               6.679117\n",
      "Lead Import                 0.340547\n",
      "Name: Lead Origin, dtype: float64\n",
      "   \n",
      "Google              31.824673\n",
      "Direct Traffic      27.935845\n",
      "Olark Chat          19.257388\n",
      "Organic Search      12.677139\n",
      "Reference            4.866528\n",
      "other source         2.021312\n",
      "Welingak Website     1.417115\n",
      "Name: Lead Source, dtype: float64\n",
      "   \n",
      "0    61.979567\n",
      "1    38.020433\n",
      "Name: Converted, dtype: float64\n",
      "   \n",
      "0.0      24.047017\n",
      "2.0      18.455454\n",
      "3.0      14.346919\n",
      "4.0      12.303636\n",
      "5.0       8.601560\n",
      "6.0       5.119191\n",
      "1.0       4.339229\n",
      "7.0       3.394485\n",
      "8.0       2.460727\n",
      "9.0       1.801604\n",
      "10.0      1.252334\n",
      "11.0      0.944743\n",
      "13.0      0.527299\n",
      "12.0      0.494343\n",
      "14.0      0.395474\n",
      "16.0      0.230693\n",
      "15.0      0.197737\n",
      "17.0      0.175766\n",
      "18.0      0.164781\n",
      "20.0      0.131825\n",
      "19.0      0.098869\n",
      "21.0      0.065912\n",
      "23.0      0.065912\n",
      "24.0      0.054927\n",
      "25.0      0.054927\n",
      "27.0      0.054927\n",
      "22.0      0.032956\n",
      "29.0      0.021971\n",
      "28.0      0.021971\n",
      "26.0      0.021971\n",
      "141.0     0.010985\n",
      "55.0      0.010985\n",
      "30.0      0.010985\n",
      "43.0      0.010985\n",
      "74.0      0.010985\n",
      "41.0      0.010985\n",
      "54.0      0.010985\n",
      "115.0     0.010985\n",
      "251.0     0.010985\n",
      "32.0      0.010985\n",
      "42.0      0.010985\n",
      "Name: TotalVisits, dtype: float64\n",
      "   \n",
      "0       24.090959\n",
      "60       0.208722\n",
      "127      0.197737\n",
      "75       0.197737\n",
      "74       0.186752\n",
      "          ...    \n",
      "609      0.010985\n",
      "1035     0.010985\n",
      "802      0.010985\n",
      "840      0.010985\n",
      "927      0.010985\n",
      "Name: Total Time Spent on Website, Length: 1717, dtype: float64\n",
      "   \n",
      "Email Opened               37.756783\n",
      "SMS Sent                   30.077996\n",
      "other                      14.456772\n",
      "Olark Chat Conversation    10.677799\n",
      "Page Visited on Website     7.030649\n",
      "Name: Last Activity, dtype: float64\n",
      "   \n",
      "Managment                            46.182577\n",
      "Not Specified                        36.295727\n",
      "others                                5.020323\n",
      "Business Administration               4.383170\n",
      "Banking, Investment And Insurance     3.680105\n",
      "Media and Advertising                 2.219049\n",
      "Travel and Tourism                    2.219049\n",
      "Name: Specialization, dtype: float64\n",
      "   \n",
      "Unemployed              89.915413\n",
      "Working Professional     7.459079\n",
      "Student                  2.273976\n",
      "Other                    0.164781\n",
      "Housewife                0.098869\n",
      "Businessman              0.087883\n",
      "Name: What is your current occupation, dtype: float64\n",
      "   \n",
      "Not Specified                          36.614303\n",
      "Will revert after reading the email    22.355267\n",
      "other reason                           17.269032\n",
      "Ringing                                13.061628\n",
      "Interested in other courses             5.591563\n",
      "Already a student                       5.108206\n",
      "Name: Tags, dtype: float64\n",
      "   \n",
      "Mumbai                         74.469955\n",
      "Thane & Outskirts               8.195101\n",
      "Other Cities                    7.470065\n",
      "Other Cities of Maharashtra     4.910469\n",
      "Other Metro Cities              4.141492\n",
      "Tier II Cities                  0.812919\n",
      "Name: City, dtype: float64\n",
      "   \n",
      "No     68.274195\n",
      "Yes    31.725805\n",
      "Name: A free copy of Mastering The Interview, dtype: float64\n",
      "   \n",
      "Modified                   35.922223\n",
      "Email Opened               31.055696\n",
      "SMS Sent                   23.860266\n",
      "others                      5.668461\n",
      "Page Visited on Website     3.493354\n",
      "Name: Last Notable Activity, dtype: float64\n",
      "   \n"
     ]
    }
   ],
   "source": [
    "varlist=['Lead Origin', 'Lead Source', 'Converted','TotalVisits', 'Total Time Spent on Website','Last Activity',\n",
    "        'Specialization', 'What is your current occupation','Tags','City','A free copy of Mastering The Interview',\n",
    "         'Last Notable Activity']\n",
    "\n",
    "for i in varlist:\n",
    "    print(leads[i].value_counts(normalize=True)*100)\n",
    "    print('   ')"
   ]
  },
  {
   "cell_type": "markdown",
   "id": "fcbdb5b4",
   "metadata": {},
   "source": [
    "# Univariate Analysis "
   ]
  },
  {
   "cell_type": "markdown",
   "id": "5ad0ac3e",
   "metadata": {},
   "source": [
    "## Categorical Variable"
   ]
  },
  {
   "cell_type": "code",
   "execution_count": 90,
   "id": "c19ec1da",
   "metadata": {},
   "outputs": [
    {
     "name": "stdout",
     "output_type": "stream",
     "text": [
      "<class 'pandas.core.frame.DataFrame'>\n",
      "Int64Index: 9103 entries, 0 to 9239\n",
      "Data columns (total 14 columns):\n",
      " #   Column                                  Non-Null Count  Dtype  \n",
      "---  ------                                  --------------  -----  \n",
      " 0   Prospect ID                             9103 non-null   object \n",
      " 1   Lead Number                             9103 non-null   int64  \n",
      " 2   Lead Origin                             9103 non-null   object \n",
      " 3   Lead Source                             9103 non-null   object \n",
      " 4   Converted                               9103 non-null   int64  \n",
      " 5   TotalVisits                             9103 non-null   float64\n",
      " 6   Total Time Spent on Website             9103 non-null   int64  \n",
      " 7   Last Activity                           9103 non-null   object \n",
      " 8   Specialization                          9103 non-null   object \n",
      " 9   What is your current occupation         9103 non-null   object \n",
      " 10  Tags                                    9103 non-null   object \n",
      " 11  City                                    9103 non-null   object \n",
      " 12  A free copy of Mastering The Interview  9103 non-null   object \n",
      " 13  Last Notable Activity                   9103 non-null   object \n",
      "dtypes: float64(1), int64(3), object(10)\n",
      "memory usage: 1.0+ MB\n"
     ]
    }
   ],
   "source": [
    "leads.info()"
   ]
  },
  {
   "cell_type": "code",
   "execution_count": 91,
   "id": "abbf29a3",
   "metadata": {},
   "outputs": [
    {
     "data": {
      "image/png": "[encoded data removed]",
      "text/plain": [
       "<Figure size 432x288 with 1 Axes>"
      ]
     },
     "metadata": {
      "needs_background": "light"
     },
     "output_type": "display_data"
    }
   ],
   "source": [
    "leads['Lead Origin'].value_counts(normalize=True).plot.barh()\n",
    "plt.show()"
   ]
  },
  {
   "cell_type": "markdown",
   "id": "d29a72e4",
   "metadata": {},
   "source": [
    "### We got the lots of leads by Page submissions"
   ]
  },
  {
   "cell_type": "code",
   "execution_count": 92,
   "id": "81e1f2a1",
   "metadata": {},
   "outputs": [
    {
     "data": {
      "image/png": "[encoded data removed]",
      "text/plain": [
       "<Figure size 432x288 with 1 Axes>"
      ]
     },
     "metadata": {
      "needs_background": "light"
     },
     "output_type": "display_data"
    }
   ],
   "source": [
    "leads['Lead Source'].value_counts(normalize=True).plot.barh()\n",
    "plt.show()"
   ]
  },
  {
   "cell_type": "markdown",
   "id": "859e6f3e",
   "metadata": {},
   "source": [
    "### Most of the leads came from Google "
   ]
  },
  {
   "cell_type": "code",
   "execution_count": 93,
   "id": "a502d4ee",
   "metadata": {},
   "outputs": [
    {
     "data": {
      "image/png": "[encoded data removed]",
      "text/plain": [
       "<Figure size 432x288 with 1 Axes>"
      ]
     },
     "metadata": {
      "needs_background": "light"
     },
     "output_type": "display_data"
    }
   ],
   "source": [
    "leads['Last Activity'].value_counts(normalize=True).plot.barh()\n",
    "plt.show()"
   ]
  },
  {
   "cell_type": "markdown",
   "id": "5d768715",
   "metadata": {},
   "source": [
    "### Through E-mails and SMS we get in touch with the customers"
   ]
  },
  {
   "cell_type": "code",
   "execution_count": 94,
   "id": "92e72013",
   "metadata": {},
   "outputs": [
    {
     "data": {
      "image/png": "[encoded data removed]",
      "text/plain": [
       "<Figure size 432x288 with 1 Axes>"
      ]
     },
     "metadata": {
      "needs_background": "light"
     },
     "output_type": "display_data"
    }
   ],
   "source": [
    "leads['Specialization'].value_counts(normalize=True).plot.barh()\n",
    "plt.show()"
   ]
  },
  {
   "cell_type": "markdown",
   "id": "a98d5ee3",
   "metadata": {},
   "source": [
    "### Most of the customers who we just connected are interested in Managment Specialization"
   ]
  },
  {
   "cell_type": "code",
   "execution_count": 95,
   "id": "119d214f",
   "metadata": {},
   "outputs": [
    {
     "data": {
      "image/png": "[encoded data removed]",
      "text/plain": [
       "<Figure size 432x288 with 1 Axes>"
      ]
     },
     "metadata": {
      "needs_background": "light"
     },
     "output_type": "display_data"
    }
   ],
   "source": [
    "leads['What is your current occupation'].value_counts(normalize=True).plot.barh()\n",
    "plt.show()"
   ]
  },
  {
   "cell_type": "markdown",
   "id": "1bddd94c",
   "metadata": {},
   "source": [
    "### approx 85% of the customers are unemployed"
   ]
  },
  {
   "cell_type": "code",
   "execution_count": 96,
   "id": "2be3e302",
   "metadata": {},
   "outputs": [
    {
     "data": {
      "image/png": "[encoded data removed]",
      "text/plain": [
       "<Figure size 432x288 with 1 Axes>"
      ]
     },
     "metadata": {
      "needs_background": "light"
     },
     "output_type": "display_data"
    }
   ],
   "source": [
    "leads['Tags'].value_counts(normalize=True).plot.barh()\n",
    "plt.show()"
   ]
  },
  {
   "cell_type": "code",
   "execution_count": 97,
   "id": "b48de99f",
   "metadata": {},
   "outputs": [
    {
     "data": {
      "image/png": "[encoded data removed]",
      "text/plain": [
       "<Figure size 432x288 with 1 Axes>"
      ]
     },
     "metadata": {
      "needs_background": "light"
     },
     "output_type": "display_data"
    }
   ],
   "source": [
    "leads['City'].value_counts(normalize=True).plot.barh()\n",
    "plt.show()"
   ]
  },
  {
   "cell_type": "markdown",
   "id": "f7b72a8d",
   "metadata": {},
   "source": [
    "### Most of the leads came from Mumbai"
   ]
  },
  {
   "cell_type": "code",
   "execution_count": 98,
   "id": "5461c56d",
   "metadata": {},
   "outputs": [
    {
     "data": {
      "image/png": "[encoded data removed]",
      "text/plain": [
       "<Figure size 432x288 with 1 Axes>"
      ]
     },
     "metadata": {
      "needs_background": "light"
     },
     "output_type": "display_data"
    }
   ],
   "source": [
    "leads['A free copy of Mastering The Interview'].value_counts(normalize=True).plot.barh()\n",
    "plt.show()"
   ]
  },
  {
   "cell_type": "code",
   "execution_count": 99,
   "id": "3d7da479",
   "metadata": {},
   "outputs": [
    {
     "data": {
      "image/png": "[encoded data removed]",
      "text/plain": [
       "<Figure size 432x288 with 1 Axes>"
      ]
     },
     "metadata": {
      "needs_background": "light"
     },
     "output_type": "display_data"
    }
   ],
   "source": [
    "leads['Last Notable Activity'].value_counts(normalize=True).plot.barh()\n",
    "plt.show()"
   ]
  },
  {
   "cell_type": "markdown",
   "id": "eabbe118",
   "metadata": {},
   "source": [
    "## Numerical Variable\n",
    "#### Checking for outliers"
   ]
  },
  {
   "cell_type": "code",
   "execution_count": 113,
   "id": "d1b62be7",
   "metadata": {},
   "outputs": [
    {
     "data": {
      "image/png": "[encoded data removed]",
      "text/plain": [
       "<Figure size 432x288 with 1 Axes>"
      ]
     },
     "metadata": {
      "needs_background": "light"
     },
     "output_type": "display_data"
    }
   ],
   "source": [
    "sns.boxplot(data=leads,y='TotalVisits')\n",
    "plt.show()"
   ]
  },
  {
   "cell_type": "code",
   "execution_count": 114,
   "id": "c12d059d",
   "metadata": {},
   "outputs": [
    {
     "data": {
      "image/png": "[encoded data removed]",
      "text/plain": [
       "<Figure size 432x288 with 1 Axes>"
      ]
     },
     "metadata": {
      "needs_background": "light"
     },
     "output_type": "display_data"
    }
   ],
   "source": [
    "sns.boxplot(data=leads,y='Total Time Spent on Website')\n",
    "plt.show()"
   ]
  },
  {
   "cell_type": "code",
   "execution_count": null,
   "id": "dcf41b67",
   "metadata": {},
   "outputs": [],
   "source": []
  },
  {
   "cell_type": "code",
   "execution_count": 101,
   "id": "06d1f1ac",
   "metadata": {},
   "outputs": [
    {
     "data": {
      "image/png": "[encoded data removed]",
      "text/plain": [
       "<Figure size 1152x720 with 2 Axes>"
      ]
     },
     "metadata": {
      "needs_background": "light"
     },
     "output_type": "display_data"
    }
   ],
   "source": [
    "plt.figure(figsize = (16, 10))\n",
    "sns.heatmap(leads.corr(), annot = True, cmap=\"YlGnBu\")\n",
    "plt.show()"
   ]
  },
  {
   "cell_type": "markdown",
   "id": "b4b09b6e",
   "metadata": {},
   "source": [
    "# Bivariate Analysis"
   ]
  },
  {
   "cell_type": "code",
   "execution_count": 102,
   "id": "f354d1da",
   "metadata": {},
   "outputs": [],
   "source": [
    "id_cols=['Prospect ID','Lead Number']\n",
    "cat_cols=['Lead Origin','Lead Source','Last Activity','Specialization','What is your current occupation',\n",
    "         'Tags', 'City', 'A free copy of Mastering The Interview','Last Notable Activity', 'Converted']\n",
    "num_cols=['Total Time Spent on Website','TotalVisits']"
   ]
  },
  {
   "cell_type": "code",
   "execution_count": null,
   "id": "39124bc7",
   "metadata": {},
   "outputs": [],
   "source": []
  },
  {
   "cell_type": "code",
   "execution_count": 103,
   "id": "5518b03c",
   "metadata": {},
   "outputs": [],
   "source": [
    "leads = leads.astype({\"Converted\":'object'})"
   ]
  },
  {
   "cell_type": "code",
   "execution_count": 104,
   "id": "3ef2256f",
   "metadata": {},
   "outputs": [
    {
     "name": "stdout",
     "output_type": "stream",
     "text": [
      "<class 'pandas.core.frame.DataFrame'>\n",
      "Int64Index: 9103 entries, 0 to 9239\n",
      "Data columns (total 14 columns):\n",
      " #   Column                                  Non-Null Count  Dtype  \n",
      "---  ------                                  --------------  -----  \n",
      " 0   Prospect ID                             9103 non-null   object \n",
      " 1   Lead Number                             9103 non-null   int64  \n",
      " 2   Lead Origin                             9103 non-null   object \n",
      " 3   Lead Source                             9103 non-null   object \n",
      " 4   Converted                               9103 non-null   object \n",
      " 5   TotalVisits                             9103 non-null   float64\n",
      " 6   Total Time Spent on Website             9103 non-null   int64  \n",
      " 7   Last Activity                           9103 non-null   object \n",
      " 8   Specialization                          9103 non-null   object \n",
      " 9   What is your current occupation         9103 non-null   object \n",
      " 10  Tags                                    9103 non-null   object \n",
      " 11  City                                    9103 non-null   object \n",
      " 12  A free copy of Mastering The Interview  9103 non-null   object \n",
      " 13  Last Notable Activity                   9103 non-null   object \n",
      "dtypes: float64(1), int64(2), object(11)\n",
      "memory usage: 1.3+ MB\n"
     ]
    }
   ],
   "source": [
    "leads.info()"
   ]
  },
  {
   "cell_type": "code",
   "execution_count": 106,
   "id": "27c36845",
   "metadata": {},
   "outputs": [
    {
     "name": "stdout",
     "output_type": "stream",
     "text": [
      "Boxplot Lead Origin Vs Total Time Spent on Website\n"
     ]
    },
    {
     "data": {
      "image/png": "[encoded data removed]",
      "text/plain": [
       "<Figure size 432x288 with 1 Axes>"
      ]
     },
     "metadata": {
      "needs_background": "light"
     },
     "output_type": "display_data"
    },
    {
     "name": "stdout",
     "output_type": "stream",
     "text": [
      "Boxplot Lead Origin Vs TotalVisits\n"
     ]
    },
    {
     "data": {
      "image/png": "[encoded data removed]",
      "text/plain": [
       "<Figure size 432x288 with 1 Axes>"
      ]
     },
     "metadata": {
      "needs_background": "light"
     },
     "output_type": "display_data"
    },
    {
     "name": "stdout",
     "output_type": "stream",
     "text": [
      "Boxplot Lead Source Vs Total Time Spent on Website\n"
     ]
    },
    {
     "data": {
      "image/png": "[encoded data removed]",
      "text/plain": [
       "<Figure size 432x288 with 1 Axes>"
      ]
     },
     "metadata": {
      "needs_background": "light"
     },
     "output_type": "display_data"
    },
    {
     "name": "stdout",
     "output_type": "stream",
     "text": [
      "Boxplot Lead Source Vs TotalVisits\n"
     ]
    },
    {
     "data": {
      "image/png": "[encoded data removed]",
      "text/plain": [
       "<Figure size 432x288 with 1 Axes>"
      ]
     },
     "metadata": {
      "needs_background": "light"
     },
     "output_type": "display_data"
    },
    {
     "name": "stdout",
     "output_type": "stream",
     "text": [
      "Boxplot Last Activity Vs Total Time Spent on Website\n"
     ]
    },
    {
     "data": {
      "image/png": "[encoded data removed]",
      "text/plain": [
       "<Figure size 432x288 with 1 Axes>"
      ]
     },
     "metadata": {
      "needs_background": "light"
     },
     "output_type": "display_data"
    },
    {
     "name": "stdout",
     "output_type": "stream",
     "text": [
      "Boxplot Last Activity Vs TotalVisits\n"
     ]
    },
    {
     "data": {
      "image/png": "[encoded data removed]",
      "text/plain": [
       "<Figure size 432x288 with 1 Axes>"
      ]
     },
     "metadata": {
      "needs_background": "light"
     },
     "output_type": "display_data"
    },
    {
     "name": "stdout",
     "output_type": "stream",
     "text": [
      "Boxplot Specialization Vs Total Time Spent on Website\n"
     ]
    },
    {
     "data": {
      "image/png": "[encoded data removed]",
      "text/plain": [
       "<Figure size 432x288 with 1 Axes>"
      ]
     },
     "metadata": {
      "needs_background": "light"
     },
     "output_type": "display_data"
    },
    {
     "name": "stdout",
     "output_type": "stream",
     "text": [
      "Boxplot Specialization Vs TotalVisits\n"
     ]
    },
    {
     "data": {
      "image/png": "[encoded data removed]",
      "text/plain": [
       "<Figure size 432x288 with 1 Axes>"
      ]
     },
     "metadata": {
      "needs_background": "light"
     },
     "output_type": "display_data"
    },
    {
     "name": "stdout",
     "output_type": "stream",
     "text": [
      "Boxplot What is your current occupation Vs Total Time Spent on Website\n"
     ]
    },
    {
     "data": {
      "image/png": "[encoded data removed]",
      "text/plain": [
       "<Figure size 432x288 with 1 Axes>"
      ]
     },
     "metadata": {
      "needs_background": "light"
     },
     "output_type": "display_data"
    },
    {
     "name": "stdout",
     "output_type": "stream",
     "text": [
      "Boxplot What is your current occupation Vs TotalVisits\n"
     ]
    },
    {
     "data": {
      "image/png": "[encoded data removed]",
      "text/plain": [
       "<Figure size 432x288 with 1 Axes>"
      ]
     },
     "metadata": {
      "needs_background": "light"
     },
     "output_type": "display_data"
    },
    {
     "name": "stdout",
     "output_type": "stream",
     "text": [
      "Boxplot Tags Vs Total Time Spent on Website\n"
     ]
    },
    {
     "data": {
      "image/png": "[encoded data removed]",
      "text/plain": [
       "<Figure size 432x288 with 1 Axes>"
      ]
     },
     "metadata": {
      "needs_background": "light"
     },
     "output_type": "display_data"
    },
    {
     "name": "stdout",
     "output_type": "stream",
     "text": [
      "Boxplot Tags Vs TotalVisits\n"
     ]
    },
    {
     "data": {
      "image/png": "[encoded data removed]",
      "text/plain": [
       "<Figure size 432x288 with 1 Axes>"
      ]
     },
     "metadata": {
      "needs_background": "light"
     },
     "output_type": "display_data"
    },
    {
     "name": "stdout",
     "output_type": "stream",
     "text": [
      "Boxplot City Vs Total Time Spent on Website\n"
     ]
    },
    {
     "data": {
      "image/png": "[encoded data removed]",
      "text/plain": [
       "<Figure size 432x288 with 1 Axes>"
      ]
     },
     "metadata": {
      "needs_background": "light"
     },
     "output_type": "display_data"
    },
    {
     "name": "stdout",
     "output_type": "stream",
     "text": [
      "Boxplot City Vs TotalVisits\n"
     ]
    },
    {
     "data": {
      "image/png": "[encoded data removed]",
      "text/plain": [
       "<Figure size 432x288 with 1 Axes>"
      ]
     },
     "metadata": {
      "needs_background": "light"
     },
     "output_type": "display_data"
    },
    {
     "name": "stdout",
     "output_type": "stream",
     "text": [
      "Boxplot A free copy of Mastering The Interview Vs Total Time Spent on Website\n"
     ]
    },
    {
     "data": {
      "image/png": "[encoded data removed]",
      "text/plain": [
       "<Figure size 432x288 with 1 Axes>"
      ]
     },
     "metadata": {
      "needs_background": "light"
     },
     "output_type": "display_data"
    },
    {
     "name": "stdout",
     "output_type": "stream",
     "text": [
      "Boxplot A free copy of Mastering The Interview Vs TotalVisits\n"
     ]
    },
    {
     "data": {
      "image/png": "[encoded data removed]",
      "text/plain": [
       "<Figure size 432x288 with 1 Axes>"
      ]
     },
     "metadata": {
      "needs_background": "light"
     },
     "output_type": "display_data"
    },
    {
     "name": "stdout",
     "output_type": "stream",
     "text": [
      "Boxplot Last Notable Activity Vs Total Time Spent on Website\n"
     ]
    },
    {
     "data": {
      "image/png": "[encoded data removed]",
      "text/plain": [
       "<Figure size 432x288 with 1 Axes>"
      ]
     },
     "metadata": {
      "needs_background": "light"
     },
     "output_type": "display_data"
    },
    {
     "name": "stdout",
     "output_type": "stream",
     "text": [
      "Boxplot Last Notable Activity Vs TotalVisits\n"
     ]
    },
    {
     "data": {
      "image/png": "[encoded data removed]",
      "text/plain": [
       "<Figure size 432x288 with 1 Axes>"
      ]
     },
     "metadata": {
      "needs_background": "light"
     },
     "output_type": "display_data"
    },
    {
     "name": "stdout",
     "output_type": "stream",
     "text": [
      "Boxplot Converted Vs Total Time Spent on Website\n"
     ]
    },
    {
     "data": {
      "image/png": "[encoded data removed]",
      "text/plain": [
       "<Figure size 432x288 with 1 Axes>"
      ]
     },
     "metadata": {
      "needs_background": "light"
     },
     "output_type": "display_data"
    },
    {
     "name": "stdout",
     "output_type": "stream",
     "text": [
      "Boxplot Converted Vs TotalVisits\n"
     ]
    },
    {
     "data": {
      "image/png": "[encoded data removed]",
      "text/plain": [
       "<Figure size 432x288 with 1 Axes>"
      ]
     },
     "metadata": {
      "needs_background": "light"
     },
     "output_type": "display_data"
    },
    {
     "data": {
      "image/png": "[encoded data removed]",
      "text/plain": [
       "<Figure size 432x288 with 1 Axes>"
      ]
     },
     "metadata": {
      "needs_background": "light"
     },
     "output_type": "display_data"
    }
   ],
   "source": [
    "for i in cat_cols:\n",
    "    for j in num_cols:\n",
    "        print(\"Boxplot\",i,\"Vs\",j)\n",
    "        sns.boxplot(leads[i],leads[j])\n",
    "        plt.show()\n",
    "        plt.xticks(rotation=90)\n"
   ]
  },
  {
   "cell_type": "code",
   "execution_count": null,
   "id": "9f35b5cc",
   "metadata": {},
   "outputs": [],
   "source": []
  }
 ],
 "metadata": {
  "kernelspec": {
   "display_name": "Python 3 (ipykernel)",
   "language": "python",
   "name": "python3"
  },
  "language_info": {
   "codemirror_mode": {
    "name": "ipython",
    "version": 3
   },
   "file_extension": ".py",
   "mimetype": "text/x-python",
   "name": "python",
   "nbconvert_exporter": "python",
   "pygments_lexer": "ipython3",
   "version": "3.9.7"
  }
 },
 "nbformat": 4,
 "nbformat_minor": 5
}
